{
 "cells": [
  {
   "cell_type": "markdown",
   "id": "9280424e",
   "metadata": {},
   "source": [
    "### IMPORTING REQUIRED LIBRARIES"
   ]
  },
  {
   "cell_type": "code",
   "execution_count": 2,
   "id": "0cca5bf1",
   "metadata": {},
   "outputs": [],
   "source": [
    "import pandas as pd \n",
    "import numpy as np\n",
    "import seaborn as sns\n",
    "import matplotlib.pyplot as plt \n",
    "import warnings\n",
    "warnings.filterwarnings('ignore')"
   ]
  },
  {
   "cell_type": "code",
   "execution_count": 3,
   "id": "7ca7d6c5",
   "metadata": {},
   "outputs": [],
   "source": [
    "df = pd.read_csv(r'C:\\Users\\SAIFULLA SHARIEF\\Desktop\\MY PROJECTS\\P4 - PIZZA_PRICE- LINEAR REGRESSION\\Pizza-Price.csv')"
   ]
  },
  {
   "cell_type": "code",
   "execution_count": 4,
   "id": "a6d8a419",
   "metadata": {},
   "outputs": [
    {
     "data": {
      "text/html": [
       "<div>\n",
       "<style scoped>\n",
       "    .dataframe tbody tr th:only-of-type {\n",
       "        vertical-align: middle;\n",
       "    }\n",
       "\n",
       "    .dataframe tbody tr th {\n",
       "        vertical-align: top;\n",
       "    }\n",
       "\n",
       "    .dataframe thead th {\n",
       "        text-align: right;\n",
       "    }\n",
       "</style>\n",
       "<table border=\"1\" class=\"dataframe\">\n",
       "  <thead>\n",
       "    <tr style=\"text-align: right;\">\n",
       "      <th></th>\n",
       "      <th>Restaurant</th>\n",
       "      <th>Extra Cheeze</th>\n",
       "      <th>Extra Mushroom</th>\n",
       "      <th>Size by Inch</th>\n",
       "      <th>Extra Spicy</th>\n",
       "      <th>Price</th>\n",
       "    </tr>\n",
       "  </thead>\n",
       "  <tbody>\n",
       "    <tr>\n",
       "      <th>0</th>\n",
       "      <td>A</td>\n",
       "      <td>yes</td>\n",
       "      <td>yes</td>\n",
       "      <td>12</td>\n",
       "      <td>no</td>\n",
       "      <td>650</td>\n",
       "    </tr>\n",
       "    <tr>\n",
       "      <th>1</th>\n",
       "      <td>B</td>\n",
       "      <td>no</td>\n",
       "      <td>yes</td>\n",
       "      <td>15</td>\n",
       "      <td>yes</td>\n",
       "      <td>800</td>\n",
       "    </tr>\n",
       "    <tr>\n",
       "      <th>2</th>\n",
       "      <td>C</td>\n",
       "      <td>no</td>\n",
       "      <td>no</td>\n",
       "      <td>9</td>\n",
       "      <td>no</td>\n",
       "      <td>500</td>\n",
       "    </tr>\n",
       "    <tr>\n",
       "      <th>3</th>\n",
       "      <td>D</td>\n",
       "      <td>yes</td>\n",
       "      <td>no</td>\n",
       "      <td>12</td>\n",
       "      <td>yes</td>\n",
       "      <td>700</td>\n",
       "    </tr>\n",
       "    <tr>\n",
       "      <th>4</th>\n",
       "      <td>E</td>\n",
       "      <td>yes</td>\n",
       "      <td>no</td>\n",
       "      <td>12</td>\n",
       "      <td>yes</td>\n",
       "      <td>750</td>\n",
       "    </tr>\n",
       "  </tbody>\n",
       "</table>\n",
       "</div>"
      ],
      "text/plain": [
       "  Restaurant Extra Cheeze Extra Mushroom   Size by Inch Extra Spicy  Price\n",
       "0          A          yes            yes             12          no    650\n",
       "1          B           no            yes             15         yes    800\n",
       "2          C           no             no              9          no    500\n",
       "3          D          yes             no             12         yes    700\n",
       "4          E          yes             no             12         yes    750"
      ]
     },
     "execution_count": 4,
     "metadata": {},
     "output_type": "execute_result"
    }
   ],
   "source": [
    "df.head()"
   ]
  },
  {
   "cell_type": "code",
   "execution_count": 5,
   "id": "4d33a5b5",
   "metadata": {},
   "outputs": [
    {
     "name": "stdout",
     "output_type": "stream",
     "text": [
      "<class 'pandas.core.frame.DataFrame'>\n",
      "RangeIndex: 20 entries, 0 to 19\n",
      "Data columns (total 6 columns):\n",
      " #   Column          Non-Null Count  Dtype \n",
      "---  ------          --------------  ----- \n",
      " 0   Restaurant      20 non-null     object\n",
      " 1   Extra Cheeze    20 non-null     object\n",
      " 2   Extra Mushroom  20 non-null     object\n",
      " 3    Size by Inch   20 non-null     int64 \n",
      " 4   Extra Spicy     20 non-null     object\n",
      " 5   Price           20 non-null     int64 \n",
      "dtypes: int64(2), object(4)\n",
      "memory usage: 1.1+ KB\n"
     ]
    }
   ],
   "source": [
    "df.info()"
   ]
  },
  {
   "cell_type": "code",
   "execution_count": 6,
   "id": "dd5bae0c",
   "metadata": {},
   "outputs": [
    {
     "data": {
      "text/html": [
       "<div>\n",
       "<style scoped>\n",
       "    .dataframe tbody tr th:only-of-type {\n",
       "        vertical-align: middle;\n",
       "    }\n",
       "\n",
       "    .dataframe tbody tr th {\n",
       "        vertical-align: top;\n",
       "    }\n",
       "\n",
       "    .dataframe thead th {\n",
       "        text-align: right;\n",
       "    }\n",
       "</style>\n",
       "<table border=\"1\" class=\"dataframe\">\n",
       "  <thead>\n",
       "    <tr style=\"text-align: right;\">\n",
       "      <th></th>\n",
       "      <th>Size by Inch</th>\n",
       "      <th>Price</th>\n",
       "    </tr>\n",
       "  </thead>\n",
       "  <tbody>\n",
       "    <tr>\n",
       "      <th>count</th>\n",
       "      <td>20.000000</td>\n",
       "      <td>20.000000</td>\n",
       "    </tr>\n",
       "    <tr>\n",
       "      <th>mean</th>\n",
       "      <td>11.600000</td>\n",
       "      <td>727.500000</td>\n",
       "    </tr>\n",
       "    <tr>\n",
       "      <th>std</th>\n",
       "      <td>2.500526</td>\n",
       "      <td>130.257841</td>\n",
       "    </tr>\n",
       "    <tr>\n",
       "      <th>min</th>\n",
       "      <td>8.000000</td>\n",
       "      <td>500.000000</td>\n",
       "    </tr>\n",
       "    <tr>\n",
       "      <th>25%</th>\n",
       "      <td>9.000000</td>\n",
       "      <td>650.000000</td>\n",
       "    </tr>\n",
       "    <tr>\n",
       "      <th>50%</th>\n",
       "      <td>12.000000</td>\n",
       "      <td>700.000000</td>\n",
       "    </tr>\n",
       "    <tr>\n",
       "      <th>75%</th>\n",
       "      <td>12.750000</td>\n",
       "      <td>762.500000</td>\n",
       "    </tr>\n",
       "    <tr>\n",
       "      <th>max</th>\n",
       "      <td>15.000000</td>\n",
       "      <td>1000.000000</td>\n",
       "    </tr>\n",
       "  </tbody>\n",
       "</table>\n",
       "</div>"
      ],
      "text/plain": [
       "        Size by Inch        Price\n",
       "count      20.000000    20.000000\n",
       "mean       11.600000   727.500000\n",
       "std         2.500526   130.257841\n",
       "min         8.000000   500.000000\n",
       "25%         9.000000   650.000000\n",
       "50%        12.000000   700.000000\n",
       "75%        12.750000   762.500000\n",
       "max        15.000000  1000.000000"
      ]
     },
     "execution_count": 6,
     "metadata": {},
     "output_type": "execute_result"
    }
   ],
   "source": [
    "df.describe()"
   ]
  },
  {
   "cell_type": "code",
   "execution_count": 7,
   "id": "b66364d0",
   "metadata": {},
   "outputs": [],
   "source": [
    "## CHECKING FOR NULL VALUES"
   ]
  },
  {
   "cell_type": "code",
   "execution_count": 8,
   "id": "c470d478",
   "metadata": {},
   "outputs": [
    {
     "data": {
      "text/plain": [
       "Restaurant        0\n",
       "Extra Cheeze      0\n",
       "Extra Mushroom    0\n",
       " Size by Inch     0\n",
       "Extra Spicy       0\n",
       "Price             0\n",
       "dtype: int64"
      ]
     },
     "execution_count": 8,
     "metadata": {},
     "output_type": "execute_result"
    }
   ],
   "source": [
    "df.isnull().sum()"
   ]
  },
  {
   "cell_type": "markdown",
   "id": "880d4fde",
   "metadata": {},
   "source": [
    "* no null values"
   ]
  },
  {
   "cell_type": "code",
   "execution_count": 9,
   "id": "46a78331",
   "metadata": {},
   "outputs": [
    {
     "data": {
      "text/plain": [
       "Index(['Restaurant', 'Extra Cheeze', 'Extra Mushroom', ' Size by Inch',\n",
       "       'Extra Spicy', 'Price'],\n",
       "      dtype='object')"
      ]
     },
     "execution_count": 9,
     "metadata": {},
     "output_type": "execute_result"
    }
   ],
   "source": [
    "df.columns"
   ]
  },
  {
   "cell_type": "code",
   "execution_count": 10,
   "id": "1c2e7251",
   "metadata": {},
   "outputs": [
    {
     "data": {
      "text/plain": [
       "<AxesSubplot:>"
      ]
     },
     "execution_count": 10,
     "metadata": {},
     "output_type": "execute_result"
    },
    {
     "data": {
      "image/png": "[encoded data removed]",
      "text/plain": [
       "<Figure size 432x288 with 2 Axes>"
      ]
     },
     "metadata": {
      "needs_background": "light"
     },
     "output_type": "display_data"
    }
   ],
   "source": [
    "sns.heatmap(df.isnull(), cmap = 'PuBuGn_r')"
   ]
  },
  {
   "cell_type": "markdown",
   "id": "9d7b7f82",
   "metadata": {},
   "source": [
    "### EXPOLORATORY DATA ANALYSIS"
   ]
  },
  {
   "cell_type": "markdown",
   "id": "69d6b749",
   "metadata": {},
   "source": [
    "### Target Variable --> PRICE (CONT.)"
   ]
  },
  {
   "cell_type": "code",
   "execution_count": 11,
   "id": "b0dae565",
   "metadata": {},
   "outputs": [
    {
     "data": {
      "text/plain": [
       "20"
      ]
     },
     "execution_count": 11,
     "metadata": {},
     "output_type": "execute_result"
    }
   ],
   "source": [
    "df.Price.value_counts().sum()"
   ]
  },
  {
   "cell_type": "code",
   "execution_count": 12,
   "id": "c454b354",
   "metadata": {},
   "outputs": [
    {
     "data": {
      "text/plain": [
       "count      20.000000\n",
       "mean      727.500000\n",
       "std       130.257841\n",
       "min       500.000000\n",
       "25%       650.000000\n",
       "50%       700.000000\n",
       "75%       762.500000\n",
       "max      1000.000000\n",
       "Name: Price, dtype: float64"
      ]
     },
     "execution_count": 12,
     "metadata": {},
     "output_type": "execute_result"
    }
   ],
   "source": [
    "df.Price.describe()"
   ]
  },
  {
   "cell_type": "code",
   "execution_count": 13,
   "id": "d96884b8",
   "metadata": {
    "scrolled": true
   },
   "outputs": [
    {
     "data": {
      "image/png": "[encoded data removed]",
      "text/plain": [
       "<Figure size 432x288 with 1 Axes>"
      ]
     },
     "metadata": {
      "needs_background": "light"
     },
     "output_type": "display_data"
    }
   ],
   "source": [
    "sns.distplot(df.Price, color = 'g')\n",
    "plt.title('Distribution of Price',color = 'red')\n",
    "plt.xlabel('Price of Pizza', color = 'blue')\n",
    "plt.ylabel('Density', color = 'blue')\n",
    "plt.show()"
   ]
  },
  {
   "cell_type": "code",
   "execution_count": 14,
   "id": "403600d7",
   "metadata": {},
   "outputs": [],
   "source": [
    "## PRICES are normaly distributed"
   ]
  },
  {
   "cell_type": "code",
   "execution_count": 15,
   "id": "ebaddd1e",
   "metadata": {},
   "outputs": [
    {
     "data": {
      "image/png": "[encoded data removed]",
      "text/plain": [
       "<Figure size 432x288 with 1 Axes>"
      ]
     },
     "metadata": {
      "needs_background": "light"
     },
     "output_type": "display_data"
    }
   ],
   "source": [
    "sns.boxplot(df.Price, color = 'g')\n",
    "plt.title('Distribution of Price',color = 'red')\n",
    "plt.xlabel('Price of Pizza', color = 'blue')\n",
    "plt.show()"
   ]
  },
  {
   "cell_type": "code",
   "execution_count": 16,
   "id": "30bbcdf7",
   "metadata": {},
   "outputs": [],
   "source": [
    "## Only two outliers , let's ignore"
   ]
  },
  {
   "cell_type": "code",
   "execution_count": 17,
   "id": "d3f97fa8",
   "metadata": {},
   "outputs": [
    {
     "data": {
      "text/plain": [
       "<AxesSubplot:xlabel='Price', ylabel='Count'>"
      ]
     },
     "execution_count": 17,
     "metadata": {},
     "output_type": "execute_result"
    },
    {
     "data": {
      "image/png": "[encoded data removed]",
      "text/plain": [
       "<Figure size 432x288 with 1 Axes>"
      ]
     },
     "metadata": {
      "needs_background": "light"
     },
     "output_type": "display_data"
    }
   ],
   "source": [
    "sns.histplot(df.Price)"
   ]
  },
  {
   "cell_type": "markdown",
   "id": "aad87b54",
   "metadata": {},
   "source": [
    "### PREDICTORS"
   ]
  },
  {
   "cell_type": "markdown",
   "id": "bb55450c",
   "metadata": {},
   "source": [
    "### 1. RESTAURANT (CAT.)"
   ]
  },
  {
   "cell_type": "code",
   "execution_count": 18,
   "id": "916b871b",
   "metadata": {},
   "outputs": [
    {
     "data": {
      "text/plain": [
       "20"
      ]
     },
     "execution_count": 18,
     "metadata": {},
     "output_type": "execute_result"
    }
   ],
   "source": [
    "df.Restaurant.value_counts().sum()"
   ]
  },
  {
   "cell_type": "code",
   "execution_count": 19,
   "id": "94bf998e",
   "metadata": {},
   "outputs": [
    {
     "data": {
      "text/plain": [
       "count     20\n",
       "unique    20\n",
       "top        L\n",
       "freq       1\n",
       "Name: Restaurant, dtype: object"
      ]
     },
     "execution_count": 19,
     "metadata": {},
     "output_type": "execute_result"
    }
   ],
   "source": [
    "df.Restaurant.describe()"
   ]
  },
  {
   "cell_type": "code",
   "execution_count": 20,
   "id": "e21dbc9c",
   "metadata": {},
   "outputs": [],
   "source": [
    "# Since they are restaurants, They could not affect the price of pizzas"
   ]
  },
  {
   "cell_type": "code",
   "execution_count": 21,
   "id": "e337454f",
   "metadata": {},
   "outputs": [],
   "source": [
    "df.drop(['Restaurant'],axis = 1, inplace =True)"
   ]
  },
  {
   "cell_type": "code",
   "execution_count": 22,
   "id": "ade4c180",
   "metadata": {},
   "outputs": [
    {
     "data": {
      "text/html": [
       "<div>\n",
       "<style scoped>\n",
       "    .dataframe tbody tr th:only-of-type {\n",
       "        vertical-align: middle;\n",
       "    }\n",
       "\n",
       "    .dataframe tbody tr th {\n",
       "        vertical-align: top;\n",
       "    }\n",
       "\n",
       "    .dataframe thead th {\n",
       "        text-align: right;\n",
       "    }\n",
       "</style>\n",
       "<table border=\"1\" class=\"dataframe\">\n",
       "  <thead>\n",
       "    <tr style=\"text-align: right;\">\n",
       "      <th></th>\n",
       "      <th>Extra Cheeze</th>\n",
       "      <th>Extra Mushroom</th>\n",
       "      <th>Size by Inch</th>\n",
       "      <th>Extra Spicy</th>\n",
       "      <th>Price</th>\n",
       "    </tr>\n",
       "  </thead>\n",
       "  <tbody>\n",
       "    <tr>\n",
       "      <th>0</th>\n",
       "      <td>yes</td>\n",
       "      <td>yes</td>\n",
       "      <td>12</td>\n",
       "      <td>no</td>\n",
       "      <td>650</td>\n",
       "    </tr>\n",
       "    <tr>\n",
       "      <th>1</th>\n",
       "      <td>no</td>\n",
       "      <td>yes</td>\n",
       "      <td>15</td>\n",
       "      <td>yes</td>\n",
       "      <td>800</td>\n",
       "    </tr>\n",
       "    <tr>\n",
       "      <th>2</th>\n",
       "      <td>no</td>\n",
       "      <td>no</td>\n",
       "      <td>9</td>\n",
       "      <td>no</td>\n",
       "      <td>500</td>\n",
       "    </tr>\n",
       "    <tr>\n",
       "      <th>3</th>\n",
       "      <td>yes</td>\n",
       "      <td>no</td>\n",
       "      <td>12</td>\n",
       "      <td>yes</td>\n",
       "      <td>700</td>\n",
       "    </tr>\n",
       "    <tr>\n",
       "      <th>4</th>\n",
       "      <td>yes</td>\n",
       "      <td>no</td>\n",
       "      <td>12</td>\n",
       "      <td>yes</td>\n",
       "      <td>750</td>\n",
       "    </tr>\n",
       "  </tbody>\n",
       "</table>\n",
       "</div>"
      ],
      "text/plain": [
       "  Extra Cheeze Extra Mushroom   Size by Inch Extra Spicy  Price\n",
       "0          yes            yes             12          no    650\n",
       "1           no            yes             15         yes    800\n",
       "2           no             no              9          no    500\n",
       "3          yes             no             12         yes    700\n",
       "4          yes             no             12         yes    750"
      ]
     },
     "execution_count": 22,
     "metadata": {},
     "output_type": "execute_result"
    }
   ],
   "source": [
    "df.head()"
   ]
  },
  {
   "cell_type": "markdown",
   "id": "401bc90f",
   "metadata": {},
   "source": [
    "### 2. Extra Cheeze (Cat)"
   ]
  },
  {
   "cell_type": "code",
   "execution_count": 23,
   "id": "54013bd8",
   "metadata": {},
   "outputs": [
    {
     "data": {
      "text/plain": [
       "yes    12\n",
       "no      8\n",
       "Name: Extra Cheeze, dtype: int64"
      ]
     },
     "execution_count": 23,
     "metadata": {},
     "output_type": "execute_result"
    }
   ],
   "source": [
    "df['Extra Cheeze'].value_counts()"
   ]
  },
  {
   "cell_type": "code",
   "execution_count": 24,
   "id": "5c3af96f",
   "metadata": {},
   "outputs": [
    {
     "data": {
      "text/plain": [
       "count      20\n",
       "unique      2\n",
       "top       yes\n",
       "freq       12\n",
       "Name: Extra Cheeze, dtype: object"
      ]
     },
     "execution_count": 24,
     "metadata": {},
     "output_type": "execute_result"
    }
   ],
   "source": [
    "df['Extra Cheeze'].describe()"
   ]
  },
  {
   "cell_type": "code",
   "execution_count": 25,
   "id": "0846d78f",
   "metadata": {},
   "outputs": [
    {
     "data": {
      "text/plain": [
       "<AxesSubplot:xlabel='Extra Cheeze', ylabel='count'>"
      ]
     },
     "execution_count": 25,
     "metadata": {},
     "output_type": "execute_result"
    },
    {
     "data": {
      "image/png": "[encoded data removed]",
      "text/plain": [
       "<Figure size 432x288 with 1 Axes>"
      ]
     },
     "metadata": {
      "needs_background": "light"
     },
     "output_type": "display_data"
    }
   ],
   "source": [
    "sns.countplot(df['Extra Cheeze'], palette = 'bright')"
   ]
  },
  {
   "cell_type": "code",
   "execution_count": 26,
   "id": "5625e3d0",
   "metadata": {},
   "outputs": [
    {
     "data": {
      "text/plain": [
       "<AxesSubplot:xlabel='Extra Cheeze', ylabel='Price'>"
      ]
     },
     "execution_count": 26,
     "metadata": {},
     "output_type": "execute_result"
    },
    {
     "data": {
      "image/png": "[encoded data removed]",
      "text/plain": [
       "<Figure size 432x288 with 1 Axes>"
      ]
     },
     "metadata": {
      "needs_background": "light"
     },
     "output_type": "display_data"
    }
   ],
   "source": [
    "sns.boxplot(x= df['Extra Cheeze'], y = df.Price, palette = 'winter')\n"
   ]
  },
  {
   "cell_type": "code",
   "execution_count": 27,
   "id": "4d3fd8b2",
   "metadata": {},
   "outputs": [
    {
     "data": {
      "image/png": "[encoded data removed]",
      "text/plain": [
       "<Figure size 360x360 with 1 Axes>"
      ]
     },
     "metadata": {
      "needs_background": "light"
     },
     "output_type": "display_data"
    }
   ],
   "source": [
    "sns.catplot(x= 'Extra Cheeze', y = 'Price', kind = 'swarm', data = df)\n",
    "plt.title('Extra Cheeze vs Price', color = 'r')\n",
    "plt.xlabel('Extra Cheeze', color ='r')\n",
    "plt.ylabel('Price', color = 'r')\n",
    "plt.show()"
   ]
  },
  {
   "cell_type": "code",
   "execution_count": 28,
   "id": "85e1564f",
   "metadata": {},
   "outputs": [],
   "source": [
    "df.rename(columns = {'Extra Cheeze': 'Extra_Cheeze'}, inplace = True)"
   ]
  },
  {
   "cell_type": "code",
   "execution_count": 29,
   "id": "806b70d0",
   "metadata": {
    "scrolled": true
   },
   "outputs": [
    {
     "data": {
      "text/plain": [
       "0    yes\n",
       "1     no\n",
       "2     no\n",
       "3    yes\n",
       "4    yes\n",
       "Name: Extra_Cheeze, dtype: object"
      ]
     },
     "execution_count": 29,
     "metadata": {},
     "output_type": "execute_result"
    }
   ],
   "source": [
    "df.Extra_Cheeze.head()"
   ]
  },
  {
   "cell_type": "code",
   "execution_count": 30,
   "id": "e3d1383e",
   "metadata": {},
   "outputs": [],
   "source": [
    "df.Extra_Cheeze.replace(to_replace=['no','yes'], value = [0,1], inplace = True)"
   ]
  },
  {
   "cell_type": "code",
   "execution_count": 31,
   "id": "5fee8f91",
   "metadata": {},
   "outputs": [
    {
     "data": {
      "text/plain": [
       "0    1\n",
       "1    0\n",
       "2    0\n",
       "3    1\n",
       "4    1\n",
       "Name: Extra_Cheeze, dtype: int64"
      ]
     },
     "execution_count": 31,
     "metadata": {},
     "output_type": "execute_result"
    }
   ],
   "source": [
    "df.Extra_Cheeze.head()"
   ]
  },
  {
   "cell_type": "code",
   "execution_count": 32,
   "id": "1795fba1",
   "metadata": {},
   "outputs": [],
   "source": [
    "from statsmodels.formula.api import ols"
   ]
  },
  {
   "cell_type": "code",
   "execution_count": 33,
   "id": "7010116b",
   "metadata": {},
   "outputs": [],
   "source": [
    "import statsmodels.api as sm"
   ]
  },
  {
   "cell_type": "code",
   "execution_count": 34,
   "id": "a1bf20ad",
   "metadata": {},
   "outputs": [
    {
     "data": {
      "text/html": [
       "<div>\n",
       "<style scoped>\n",
       "    .dataframe tbody tr th:only-of-type {\n",
       "        vertical-align: middle;\n",
       "    }\n",
       "\n",
       "    .dataframe tbody tr th {\n",
       "        vertical-align: top;\n",
       "    }\n",
       "\n",
       "    .dataframe thead th {\n",
       "        text-align: right;\n",
       "    }\n",
       "</style>\n",
       "<table border=\"1\" class=\"dataframe\">\n",
       "  <thead>\n",
       "    <tr style=\"text-align: right;\">\n",
       "      <th></th>\n",
       "      <th>df</th>\n",
       "      <th>sum_sq</th>\n",
       "      <th>mean_sq</th>\n",
       "      <th>F</th>\n",
       "      <th>PR(&gt;F)</th>\n",
       "    </tr>\n",
       "  </thead>\n",
       "  <tbody>\n",
       "    <tr>\n",
       "      <th>Price</th>\n",
       "      <td>1.0</td>\n",
       "      <td>0.100504</td>\n",
       "      <td>0.100504</td>\n",
       "      <td>0.38495</td>\n",
       "      <td>0.542742</td>\n",
       "    </tr>\n",
       "    <tr>\n",
       "      <th>Residual</th>\n",
       "      <td>18.0</td>\n",
       "      <td>4.699496</td>\n",
       "      <td>0.261083</td>\n",
       "      <td>NaN</td>\n",
       "      <td>NaN</td>\n",
       "    </tr>\n",
       "  </tbody>\n",
       "</table>\n",
       "</div>"
      ],
      "text/plain": [
       "            df    sum_sq   mean_sq        F    PR(>F)\n",
       "Price      1.0  0.100504  0.100504  0.38495  0.542742\n",
       "Residual  18.0  4.699496  0.261083      NaN       NaN"
      ]
     },
     "execution_count": 34,
     "metadata": {},
     "output_type": "execute_result"
    }
   ],
   "source": [
    "mod = ols('Extra_Cheeze ~ Price',data = df).fit()\n",
    "sm.stats.anova_lm(mod)"
   ]
  },
  {
   "cell_type": "markdown",
   "id": "468a934a",
   "metadata": {},
   "source": [
    "* Since P value > 0.05 , May be a bad predictor"
   ]
  },
  {
   "cell_type": "markdown",
   "id": "405b4912",
   "metadata": {},
   "source": [
    "### 3. Extra Mushroom (Cat)"
   ]
  },
  {
   "cell_type": "code",
   "execution_count": 35,
   "id": "7ff628c5",
   "metadata": {},
   "outputs": [],
   "source": [
    "df.rename(columns = {'Extra Mushroom': 'Extra_Mushroom'}, inplace = True)"
   ]
  },
  {
   "cell_type": "code",
   "execution_count": 36,
   "id": "e538798a",
   "metadata": {},
   "outputs": [
    {
     "data": {
      "text/plain": [
       "yes    11\n",
       "no      9\n",
       "Name: Extra_Mushroom, dtype: int64"
      ]
     },
     "execution_count": 36,
     "metadata": {},
     "output_type": "execute_result"
    }
   ],
   "source": [
    "df.Extra_Mushroom.value_counts()"
   ]
  },
  {
   "cell_type": "code",
   "execution_count": 37,
   "id": "624e080e",
   "metadata": {},
   "outputs": [
    {
     "data": {
      "text/plain": [
       "count      20\n",
       "unique      2\n",
       "top       yes\n",
       "freq       11\n",
       "Name: Extra_Mushroom, dtype: object"
      ]
     },
     "execution_count": 37,
     "metadata": {},
     "output_type": "execute_result"
    }
   ],
   "source": [
    "df.Extra_Mushroom.describe()"
   ]
  },
  {
   "cell_type": "code",
   "execution_count": 38,
   "id": "671f78b1",
   "metadata": {},
   "outputs": [
    {
     "data": {
      "text/plain": [
       "<AxesSubplot:xlabel='Extra_Mushroom', ylabel='count'>"
      ]
     },
     "execution_count": 38,
     "metadata": {},
     "output_type": "execute_result"
    },
    {
     "data": {
      "image/png": "[encoded data removed]",
      "text/plain": [
       "<Figure size 432x288 with 1 Axes>"
      ]
     },
     "metadata": {
      "needs_background": "light"
     },
     "output_type": "display_data"
    }
   ],
   "source": [
    "sns.countplot(df.Extra_Mushroom, palette = 'bright')"
   ]
  },
  {
   "cell_type": "code",
   "execution_count": 39,
   "id": "5bff4a69",
   "metadata": {},
   "outputs": [
    {
     "data": {
      "text/plain": [
       "<AxesSubplot:xlabel='Extra_Mushroom', ylabel='Price'>"
      ]
     },
     "execution_count": 39,
     "metadata": {},
     "output_type": "execute_result"
    },
    {
     "data": {
      "image/png": "[encoded data removed]",
      "text/plain": [
       "<Figure size 432x288 with 1 Axes>"
      ]
     },
     "metadata": {
      "needs_background": "light"
     },
     "output_type": "display_data"
    }
   ],
   "source": [
    "sns.boxplot(x= df.Extra_Mushroom, y = df.Price, palette = 'winter')\n"
   ]
  },
  {
   "cell_type": "code",
   "execution_count": 40,
   "id": "cb475b56",
   "metadata": {},
   "outputs": [
    {
     "data": {
      "image/png": "[encoded data removed]",
      "text/plain": [
       "<Figure size 360x360 with 1 Axes>"
      ]
     },
     "metadata": {
      "needs_background": "light"
     },
     "output_type": "display_data"
    }
   ],
   "source": [
    "sns.catplot(x= 'Extra_Mushroom', y = 'Price', kind = 'swarm', data = df)\n",
    "plt.title('Extra Mushroom vs Price', color = 'r')\n",
    "plt.xlabel('Extra Mushroom', color ='r')\n",
    "plt.ylabel('Price', color = 'r')\n",
    "plt.show()"
   ]
  },
  {
   "cell_type": "code",
   "execution_count": 41,
   "id": "c4ee0e32",
   "metadata": {},
   "outputs": [],
   "source": [
    "df.Extra_Mushroom.replace(to_replace=['no','yes'], value = [0,1], inplace = True)"
   ]
  },
  {
   "cell_type": "code",
   "execution_count": 42,
   "id": "8519d86a",
   "metadata": {},
   "outputs": [
    {
     "data": {
      "text/html": [
       "<div>\n",
       "<style scoped>\n",
       "    .dataframe tbody tr th:only-of-type {\n",
       "        vertical-align: middle;\n",
       "    }\n",
       "\n",
       "    .dataframe tbody tr th {\n",
       "        vertical-align: top;\n",
       "    }\n",
       "\n",
       "    .dataframe thead th {\n",
       "        text-align: right;\n",
       "    }\n",
       "</style>\n",
       "<table border=\"1\" class=\"dataframe\">\n",
       "  <thead>\n",
       "    <tr style=\"text-align: right;\">\n",
       "      <th></th>\n",
       "      <th>df</th>\n",
       "      <th>sum_sq</th>\n",
       "      <th>mean_sq</th>\n",
       "      <th>F</th>\n",
       "      <th>PR(&gt;F)</th>\n",
       "    </tr>\n",
       "  </thead>\n",
       "  <tbody>\n",
       "    <tr>\n",
       "      <th>Price</th>\n",
       "      <td>1.0</td>\n",
       "      <td>0.929837</td>\n",
       "      <td>0.929837</td>\n",
       "      <td>4.163281</td>\n",
       "      <td>0.056257</td>\n",
       "    </tr>\n",
       "    <tr>\n",
       "      <th>Residual</th>\n",
       "      <td>18.0</td>\n",
       "      <td>4.020163</td>\n",
       "      <td>0.223342</td>\n",
       "      <td>NaN</td>\n",
       "      <td>NaN</td>\n",
       "    </tr>\n",
       "  </tbody>\n",
       "</table>\n",
       "</div>"
      ],
      "text/plain": [
       "            df    sum_sq   mean_sq         F    PR(>F)\n",
       "Price      1.0  0.929837  0.929837  4.163281  0.056257\n",
       "Residual  18.0  4.020163  0.223342       NaN       NaN"
      ]
     },
     "execution_count": 42,
     "metadata": {},
     "output_type": "execute_result"
    }
   ],
   "source": [
    "mod = ols('Extra_Mushroom ~ Price',data = df).fit()\n",
    "sm.stats.anova_lm(mod)"
   ]
  },
  {
   "cell_type": "markdown",
   "id": "ee0395d0",
   "metadata": {},
   "source": [
    "* Since P value is 0.05 , may be a good Predictor"
   ]
  },
  {
   "cell_type": "markdown",
   "id": "94d9ae9b",
   "metadata": {},
   "source": [
    "### 4.Size by Inch (Cont.)"
   ]
  },
  {
   "cell_type": "code",
   "execution_count": 43,
   "id": "dcce5f5b",
   "metadata": {},
   "outputs": [],
   "source": [
    "df.rename(columns = {' Size by Inch':'Size_By_Inch'},inplace = True)"
   ]
  },
  {
   "cell_type": "code",
   "execution_count": 44,
   "id": "00af420f",
   "metadata": {},
   "outputs": [
    {
     "data": {
      "text/plain": [
       "0    12\n",
       "1    15\n",
       "2     9\n",
       "3    12\n",
       "4    12\n",
       "Name: Size_By_Inch, dtype: int64"
      ]
     },
     "execution_count": 44,
     "metadata": {},
     "output_type": "execute_result"
    }
   ],
   "source": [
    "df.Size_By_Inch.head()"
   ]
  },
  {
   "cell_type": "code",
   "execution_count": 45,
   "id": "54cf1ec6",
   "metadata": {},
   "outputs": [
    {
     "data": {
      "text/plain": [
       "count    20.000000\n",
       "mean     11.600000\n",
       "std       2.500526\n",
       "min       8.000000\n",
       "25%       9.000000\n",
       "50%      12.000000\n",
       "75%      12.750000\n",
       "max      15.000000\n",
       "Name: Size_By_Inch, dtype: float64"
      ]
     },
     "execution_count": 45,
     "metadata": {},
     "output_type": "execute_result"
    }
   ],
   "source": [
    "df.Size_By_Inch.describe()"
   ]
  },
  {
   "cell_type": "code",
   "execution_count": 46,
   "id": "a7f32a89",
   "metadata": {},
   "outputs": [
    {
     "data": {
      "image/png": "[encoded data removed]",
      "text/plain": [
       "<Figure size 432x288 with 1 Axes>"
      ]
     },
     "metadata": {
      "needs_background": "light"
     },
     "output_type": "display_data"
    }
   ],
   "source": [
    "sns.distplot(df.Size_By_Inch, color = 'blue')\n",
    "plt.title('Size_By_Inch distribution', color = 'b')\n",
    "plt.xlabel('Size_By_Inch', color = 'r')\n",
    "plt.ylabel('Density', color = 'r')\n",
    "plt.show()"
   ]
  },
  {
   "cell_type": "code",
   "execution_count": 47,
   "id": "38d173d6",
   "metadata": {},
   "outputs": [
    {
     "data": {
      "image/png": "[encoded data removed]",
      "text/plain": [
       "<Figure size 432x288 with 1 Axes>"
      ]
     },
     "metadata": {
      "needs_background": "light"
     },
     "output_type": "display_data"
    }
   ],
   "source": [
    "sns.boxplot(df.Size_By_Inch, palette = 'viridis')\n",
    "plt.title('boxplot of Sizes', color = 'r')\n",
    "plt.xlabel('Size by inch', color = 'r')\n",
    "\n",
    "plt.show()"
   ]
  },
  {
   "cell_type": "code",
   "execution_count": 48,
   "id": "46114e40",
   "metadata": {},
   "outputs": [
    {
     "data": {
      "image/png": "[encoded data removed]",
      "text/plain": [
       "<Figure size 432x288 with 1 Axes>"
      ]
     },
     "metadata": {
      "needs_background": "light"
     },
     "output_type": "display_data"
    }
   ],
   "source": [
    "plt.scatter(df.Size_By_Inch, df.Price)\n",
    "plt.title('Size vs Price', color = 'r')\n",
    "plt.xlabel('Size', color = 'r')\n",
    "plt.ylabel('Price', color = 'r')\n",
    "plt.show()"
   ]
  },
  {
   "cell_type": "code",
   "execution_count": 49,
   "id": "c18431f2",
   "metadata": {},
   "outputs": [
    {
     "data": {
      "image/png": "[encoded data removed]",
      "text/plain": [
       "<Figure size 360x360 with 1 Axes>"
      ]
     },
     "metadata": {
      "needs_background": "light"
     },
     "output_type": "display_data"
    }
   ],
   "source": [
    "sns.lmplot(x='Size_By_Inch', y='Price',data = df, fit_reg= True)\n",
    "plt.title('Size vs Price', color = 'r')\n",
    "plt.xlabel('Size', color = 'r')\n",
    "plt.ylabel('Price', color = 'r')\n",
    "plt.show()"
   ]
  },
  {
   "cell_type": "code",
   "execution_count": 50,
   "id": "572a226b",
   "metadata": {},
   "outputs": [],
   "source": [
    "from scipy.stats import pearsonr"
   ]
  },
  {
   "cell_type": "code",
   "execution_count": 51,
   "id": "232cf4bc",
   "metadata": {},
   "outputs": [
    {
     "data": {
      "text/plain": [
       "(0.681904494710584, 0.0009277401586778011)"
      ]
     },
     "execution_count": 51,
     "metadata": {},
     "output_type": "execute_result"
    }
   ],
   "source": [
    "corr = pearsonr(df.Size_By_Inch, df.Price)\n",
    "corr"
   ]
  },
  {
   "cell_type": "markdown",
   "id": "de9d116d",
   "metadata": {},
   "source": [
    " * Since pearson correlation is 0.68 , may be a good predictor"
   ]
  },
  {
   "cell_type": "markdown",
   "id": "9dcf06be",
   "metadata": {},
   "source": [
    "### 5. Extra Spicy (Cat)"
   ]
  },
  {
   "cell_type": "code",
   "execution_count": 52,
   "id": "e48e2a59",
   "metadata": {},
   "outputs": [],
   "source": [
    "df.rename(columns = {'Extra Spicy': 'Extra_Spicy'},inplace = True)#Extra Spicy"
   ]
  },
  {
   "cell_type": "code",
   "execution_count": 53,
   "id": "b40ebf4c",
   "metadata": {},
   "outputs": [
    {
     "data": {
      "text/plain": [
       "no     11\n",
       "yes     9\n",
       "Name: Extra_Spicy, dtype: int64"
      ]
     },
     "execution_count": 53,
     "metadata": {},
     "output_type": "execute_result"
    }
   ],
   "source": [
    "df.Extra_Spicy.value_counts()"
   ]
  },
  {
   "cell_type": "code",
   "execution_count": 54,
   "id": "88472dc3",
   "metadata": {},
   "outputs": [
    {
     "data": {
      "text/plain": [
       "<AxesSubplot:xlabel='Extra_Spicy', ylabel='count'>"
      ]
     },
     "execution_count": 54,
     "metadata": {},
     "output_type": "execute_result"
    },
    {
     "data": {
      "image/png": "[encoded data removed]",
      "text/plain": [
       "<Figure size 432x288 with 1 Axes>"
      ]
     },
     "metadata": {
      "needs_background": "light"
     },
     "output_type": "display_data"
    }
   ],
   "source": [
    "sns.countplot(df.Extra_Spicy, palette = 'bright')"
   ]
  },
  {
   "cell_type": "code",
   "execution_count": 55,
   "id": "4d662859",
   "metadata": {},
   "outputs": [
    {
     "data": {
      "text/plain": [
       "<AxesSubplot:xlabel='Extra_Spicy', ylabel='Price'>"
      ]
     },
     "execution_count": 55,
     "metadata": {},
     "output_type": "execute_result"
    },
    {
     "data": {
      "image/png": "[encoded data removed]",
      "text/plain": [
       "<Figure size 432x288 with 1 Axes>"
      ]
     },
     "metadata": {
      "needs_background": "light"
     },
     "output_type": "display_data"
    }
   ],
   "source": [
    "sns.boxplot(x= df.Extra_Spicy, y = df.Price, palette = 'winter')\n"
   ]
  },
  {
   "cell_type": "code",
   "execution_count": 56,
   "id": "e22df59f",
   "metadata": {},
   "outputs": [
    {
     "data": {
      "image/png": "[encoded data removed]",
      "text/plain": [
       "<Figure size 360x360 with 1 Axes>"
      ]
     },
     "metadata": {
      "needs_background": "light"
     },
     "output_type": "display_data"
    }
   ],
   "source": [
    "sns.catplot(x= 'Extra_Spicy', y = 'Price', kind = 'swarm', data = df)\n",
    "plt.title('Extra Spicy vs Price', color = 'r')\n",
    "plt.xlabel('Extra Spicy', color ='r')\n",
    "plt.ylabel('Price', color = 'r')\n",
    "plt.show()"
   ]
  },
  {
   "cell_type": "code",
   "execution_count": 57,
   "id": "a9d46c66",
   "metadata": {},
   "outputs": [],
   "source": [
    "df.Extra_Spicy.replace(to_replace=['no','yes'], value = [0,1], inplace = True)"
   ]
  },
  {
   "cell_type": "code",
   "execution_count": 58,
   "id": "b8c77ecc",
   "metadata": {},
   "outputs": [
    {
     "data": {
      "text/html": [
       "<div>\n",
       "<style scoped>\n",
       "    .dataframe tbody tr th:only-of-type {\n",
       "        vertical-align: middle;\n",
       "    }\n",
       "\n",
       "    .dataframe tbody tr th {\n",
       "        vertical-align: top;\n",
       "    }\n",
       "\n",
       "    .dataframe thead th {\n",
       "        text-align: right;\n",
       "    }\n",
       "</style>\n",
       "<table border=\"1\" class=\"dataframe\">\n",
       "  <thead>\n",
       "    <tr style=\"text-align: right;\">\n",
       "      <th></th>\n",
       "      <th>df</th>\n",
       "      <th>sum_sq</th>\n",
       "      <th>mean_sq</th>\n",
       "      <th>F</th>\n",
       "      <th>PR(&gt;F)</th>\n",
       "    </tr>\n",
       "  </thead>\n",
       "  <tbody>\n",
       "    <tr>\n",
       "      <th>Price</th>\n",
       "      <td>1.0</td>\n",
       "      <td>2.254382</td>\n",
       "      <td>2.254382</td>\n",
       "      <td>15.053639</td>\n",
       "      <td>0.001097</td>\n",
       "    </tr>\n",
       "    <tr>\n",
       "      <th>Residual</th>\n",
       "      <td>18.0</td>\n",
       "      <td>2.695618</td>\n",
       "      <td>0.149757</td>\n",
       "      <td>NaN</td>\n",
       "      <td>NaN</td>\n",
       "    </tr>\n",
       "  </tbody>\n",
       "</table>\n",
       "</div>"
      ],
      "text/plain": [
       "            df    sum_sq   mean_sq          F    PR(>F)\n",
       "Price      1.0  2.254382  2.254382  15.053639  0.001097\n",
       "Residual  18.0  2.695618  0.149757        NaN       NaN"
      ]
     },
     "execution_count": 58,
     "metadata": {},
     "output_type": "execute_result"
    }
   ],
   "source": [
    "mod = ols('Extra_Spicy ~ Price',data = df).fit()\n",
    "sm.stats.anova_lm(mod)"
   ]
  },
  {
   "cell_type": "markdown",
   "id": "8cfdf06e",
   "metadata": {},
   "source": [
    "* Since p < 0.05, may be a good predictor"
   ]
  },
  {
   "cell_type": "code",
   "execution_count": 59,
   "id": "dc7ff405",
   "metadata": {},
   "outputs": [
    {
     "name": "stdout",
     "output_type": "stream",
     "text": [
      "<class 'pandas.core.frame.DataFrame'>\n",
      "RangeIndex: 20 entries, 0 to 19\n",
      "Data columns (total 5 columns):\n",
      " #   Column          Non-Null Count  Dtype\n",
      "---  ------          --------------  -----\n",
      " 0   Extra_Cheeze    20 non-null     int64\n",
      " 1   Extra_Mushroom  20 non-null     int64\n",
      " 2   Size_By_Inch    20 non-null     int64\n",
      " 3   Extra_Spicy     20 non-null     int64\n",
      " 4   Price           20 non-null     int64\n",
      "dtypes: int64(5)\n",
      "memory usage: 928.0 bytes\n"
     ]
    }
   ],
   "source": [
    "df.info()"
   ]
  },
  {
   "cell_type": "markdown",
   "id": "f1b22858",
   "metadata": {},
   "source": [
    "## Heatmap "
   ]
  },
  {
   "cell_type": "code",
   "execution_count": 60,
   "id": "96995cc0",
   "metadata": {},
   "outputs": [
    {
     "name": "stdout",
     "output_type": "stream",
     "text": [
      "                Extra_Mushroom  Size_By_Inch  Extra_Spicy     Price\n",
      "Extra_Mushroom        1.000000      0.470104     0.010101  0.433412\n",
      "Size_By_Inch          0.470104      1.000000     0.395877  0.681904\n",
      "Extra_Spicy           0.010101      0.395877     1.000000  0.674856\n",
      "Price                 0.433412      0.681904     0.674856  1.000000\n"
     ]
    }
   ],
   "source": [
    "hm = df.iloc[:,1:5]\n",
    "print(hm.corr())"
   ]
  },
  {
   "cell_type": "code",
   "execution_count": 61,
   "id": "a4f61f47",
   "metadata": {},
   "outputs": [
    {
     "data": {
      "text/plain": [
       "Text(0.5, 1.0, 'correlation matrix')"
      ]
     },
     "execution_count": 61,
     "metadata": {},
     "output_type": "execute_result"
    },
    {
     "data": {
      "image/png": "[encoded data removed]",
      "text/plain": [
       "<Figure size 432x288 with 2 Axes>"
      ]
     },
     "metadata": {
      "needs_background": "light"
     },
     "output_type": "display_data"
    }
   ],
   "source": [
    "sns.heatmap(hm.corr(), cmap = 'RdYlBu', annot = True)\n",
    "plt.title('correlation matrix')"
   ]
  },
  {
   "cell_type": "markdown",
   "id": "ad0bfbaf",
   "metadata": {},
   "source": [
    "### Dividing the data into Predictors(x) and Target variable (y)"
   ]
  },
  {
   "cell_type": "code",
   "execution_count": 62,
   "id": "3c61f07e",
   "metadata": {},
   "outputs": [],
   "source": [
    "x = df.iloc[:, 0:4\n",
    "           ]"
   ]
  },
  {
   "cell_type": "code",
   "execution_count": 63,
   "id": "49c0b964",
   "metadata": {},
   "outputs": [],
   "source": [
    "y = df.iloc[:, 5:]"
   ]
  },
  {
   "cell_type": "code",
   "execution_count": 64,
   "id": "21955451",
   "metadata": {},
   "outputs": [
    {
     "data": {
      "text/html": [
       "<div>\n",
       "<style scoped>\n",
       "    .dataframe tbody tr th:only-of-type {\n",
       "        vertical-align: middle;\n",
       "    }\n",
       "\n",
       "    .dataframe tbody tr th {\n",
       "        vertical-align: top;\n",
       "    }\n",
       "\n",
       "    .dataframe thead th {\n",
       "        text-align: right;\n",
       "    }\n",
       "</style>\n",
       "<table border=\"1\" class=\"dataframe\">\n",
       "  <thead>\n",
       "    <tr style=\"text-align: right;\">\n",
       "      <th></th>\n",
       "      <th>Extra_Cheeze</th>\n",
       "      <th>Extra_Mushroom</th>\n",
       "      <th>Size_By_Inch</th>\n",
       "      <th>Extra_Spicy</th>\n",
       "    </tr>\n",
       "  </thead>\n",
       "  <tbody>\n",
       "    <tr>\n",
       "      <th>0</th>\n",
       "      <td>1</td>\n",
       "      <td>1</td>\n",
       "      <td>12</td>\n",
       "      <td>0</td>\n",
       "    </tr>\n",
       "    <tr>\n",
       "      <th>1</th>\n",
       "      <td>0</td>\n",
       "      <td>1</td>\n",
       "      <td>15</td>\n",
       "      <td>1</td>\n",
       "    </tr>\n",
       "    <tr>\n",
       "      <th>2</th>\n",
       "      <td>0</td>\n",
       "      <td>0</td>\n",
       "      <td>9</td>\n",
       "      <td>0</td>\n",
       "    </tr>\n",
       "    <tr>\n",
       "      <th>3</th>\n",
       "      <td>1</td>\n",
       "      <td>0</td>\n",
       "      <td>12</td>\n",
       "      <td>1</td>\n",
       "    </tr>\n",
       "    <tr>\n",
       "      <th>4</th>\n",
       "      <td>1</td>\n",
       "      <td>0</td>\n",
       "      <td>12</td>\n",
       "      <td>1</td>\n",
       "    </tr>\n",
       "  </tbody>\n",
       "</table>\n",
       "</div>"
      ],
      "text/plain": [
       "   Extra_Cheeze  Extra_Mushroom  Size_By_Inch  Extra_Spicy\n",
       "0             1               1            12            0\n",
       "1             0               1            15            1\n",
       "2             0               0             9            0\n",
       "3             1               0            12            1\n",
       "4             1               0            12            1"
      ]
     },
     "execution_count": 64,
     "metadata": {},
     "output_type": "execute_result"
    }
   ],
   "source": [
    "x.head()"
   ]
  },
  {
   "cell_type": "code",
   "execution_count": 65,
   "id": "59534e14",
   "metadata": {},
   "outputs": [
    {
     "data": {
      "text/html": [
       "<div>\n",
       "<style scoped>\n",
       "    .dataframe tbody tr th:only-of-type {\n",
       "        vertical-align: middle;\n",
       "    }\n",
       "\n",
       "    .dataframe tbody tr th {\n",
       "        vertical-align: top;\n",
       "    }\n",
       "\n",
       "    .dataframe thead th {\n",
       "        text-align: right;\n",
       "    }\n",
       "</style>\n",
       "<table border=\"1\" class=\"dataframe\">\n",
       "  <thead>\n",
       "    <tr style=\"text-align: right;\">\n",
       "      <th></th>\n",
       "    </tr>\n",
       "  </thead>\n",
       "  <tbody>\n",
       "    <tr>\n",
       "      <th>0</th>\n",
       "    </tr>\n",
       "    <tr>\n",
       "      <th>1</th>\n",
       "    </tr>\n",
       "    <tr>\n",
       "      <th>2</th>\n",
       "    </tr>\n",
       "    <tr>\n",
       "      <th>3</th>\n",
       "    </tr>\n",
       "    <tr>\n",
       "      <th>4</th>\n",
       "    </tr>\n",
       "  </tbody>\n",
       "</table>\n",
       "</div>"
      ],
      "text/plain": [
       "Empty DataFrame\n",
       "Columns: []\n",
       "Index: [0, 1, 2, 3, 4]"
      ]
     },
     "execution_count": 65,
     "metadata": {},
     "output_type": "execute_result"
    }
   ],
   "source": [
    "y.head()"
   ]
  },
  {
   "cell_type": "code",
   "execution_count": 66,
   "id": "b9d50826",
   "metadata": {},
   "outputs": [
    {
     "data": {
      "text/html": [
       "<div>\n",
       "<style scoped>\n",
       "    .dataframe tbody tr th:only-of-type {\n",
       "        vertical-align: middle;\n",
       "    }\n",
       "\n",
       "    .dataframe tbody tr th {\n",
       "        vertical-align: top;\n",
       "    }\n",
       "\n",
       "    .dataframe thead th {\n",
       "        text-align: right;\n",
       "    }\n",
       "</style>\n",
       "<table border=\"1\" class=\"dataframe\">\n",
       "  <thead>\n",
       "    <tr style=\"text-align: right;\">\n",
       "      <th></th>\n",
       "      <th>Extra_Cheeze</th>\n",
       "      <th>Extra_Mushroom</th>\n",
       "      <th>Size_By_Inch</th>\n",
       "      <th>Extra_Spicy</th>\n",
       "      <th>Price</th>\n",
       "    </tr>\n",
       "  </thead>\n",
       "  <tbody>\n",
       "    <tr>\n",
       "      <th>count</th>\n",
       "      <td>20.000000</td>\n",
       "      <td>20.000000</td>\n",
       "      <td>20.000000</td>\n",
       "      <td>20.000000</td>\n",
       "      <td>20.000000</td>\n",
       "    </tr>\n",
       "    <tr>\n",
       "      <th>mean</th>\n",
       "      <td>0.600000</td>\n",
       "      <td>0.550000</td>\n",
       "      <td>11.600000</td>\n",
       "      <td>0.450000</td>\n",
       "      <td>727.500000</td>\n",
       "    </tr>\n",
       "    <tr>\n",
       "      <th>std</th>\n",
       "      <td>0.502625</td>\n",
       "      <td>0.510418</td>\n",
       "      <td>2.500526</td>\n",
       "      <td>0.510418</td>\n",
       "      <td>130.257841</td>\n",
       "    </tr>\n",
       "    <tr>\n",
       "      <th>min</th>\n",
       "      <td>0.000000</td>\n",
       "      <td>0.000000</td>\n",
       "      <td>8.000000</td>\n",
       "      <td>0.000000</td>\n",
       "      <td>500.000000</td>\n",
       "    </tr>\n",
       "    <tr>\n",
       "      <th>25%</th>\n",
       "      <td>0.000000</td>\n",
       "      <td>0.000000</td>\n",
       "      <td>9.000000</td>\n",
       "      <td>0.000000</td>\n",
       "      <td>650.000000</td>\n",
       "    </tr>\n",
       "    <tr>\n",
       "      <th>50%</th>\n",
       "      <td>1.000000</td>\n",
       "      <td>1.000000</td>\n",
       "      <td>12.000000</td>\n",
       "      <td>0.000000</td>\n",
       "      <td>700.000000</td>\n",
       "    </tr>\n",
       "    <tr>\n",
       "      <th>75%</th>\n",
       "      <td>1.000000</td>\n",
       "      <td>1.000000</td>\n",
       "      <td>12.750000</td>\n",
       "      <td>1.000000</td>\n",
       "      <td>762.500000</td>\n",
       "    </tr>\n",
       "    <tr>\n",
       "      <th>max</th>\n",
       "      <td>1.000000</td>\n",
       "      <td>1.000000</td>\n",
       "      <td>15.000000</td>\n",
       "      <td>1.000000</td>\n",
       "      <td>1000.000000</td>\n",
       "    </tr>\n",
       "  </tbody>\n",
       "</table>\n",
       "</div>"
      ],
      "text/plain": [
       "       Extra_Cheeze  Extra_Mushroom  Size_By_Inch  Extra_Spicy        Price\n",
       "count     20.000000       20.000000     20.000000    20.000000    20.000000\n",
       "mean       0.600000        0.550000     11.600000     0.450000   727.500000\n",
       "std        0.502625        0.510418      2.500526     0.510418   130.257841\n",
       "min        0.000000        0.000000      8.000000     0.000000   500.000000\n",
       "25%        0.000000        0.000000      9.000000     0.000000   650.000000\n",
       "50%        1.000000        1.000000     12.000000     0.000000   700.000000\n",
       "75%        1.000000        1.000000     12.750000     1.000000   762.500000\n",
       "max        1.000000        1.000000     15.000000     1.000000  1000.000000"
      ]
     },
     "execution_count": 66,
     "metadata": {},
     "output_type": "execute_result"
    }
   ],
   "source": [
    "df.describe()"
   ]
  },
  {
   "cell_type": "markdown",
   "id": "e8336522",
   "metadata": {},
   "source": [
    "### Splitting the data into Train and test data sets"
   ]
  },
  {
   "cell_type": "code",
   "execution_count": 67,
   "id": "095e0de9",
   "metadata": {},
   "outputs": [],
   "source": [
    "df_train = df.iloc[0:16,]\n",
    "df_test = df.iloc[16:,]"
   ]
  },
  {
   "cell_type": "code",
   "execution_count": 68,
   "id": "2f4f3d3b",
   "metadata": {},
   "outputs": [
    {
     "data": {
      "text/plain": [
       "(16, 5)"
      ]
     },
     "execution_count": 68,
     "metadata": {},
     "output_type": "execute_result"
    }
   ],
   "source": [
    "df_train.shape"
   ]
  },
  {
   "cell_type": "code",
   "execution_count": 69,
   "id": "8fca0e03",
   "metadata": {},
   "outputs": [
    {
     "data": {
      "text/plain": [
       "(4, 5)"
      ]
     },
     "execution_count": 69,
     "metadata": {},
     "output_type": "execute_result"
    }
   ],
   "source": [
    "df_test.shape"
   ]
  },
  {
   "cell_type": "markdown",
   "id": "0d202e04",
   "metadata": {},
   "source": [
    "### Model 1"
   ]
  },
  {
   "cell_type": "code",
   "execution_count": 70,
   "id": "68668286",
   "metadata": {},
   "outputs": [],
   "source": [
    "import statsmodels.formula.api as sm\n",
    "import statsmodels.api as sms"
   ]
  },
  {
   "cell_type": "code",
   "execution_count": 71,
   "id": "1f1b94f3",
   "metadata": {},
   "outputs": [
    {
     "name": "stdout",
     "output_type": "stream",
     "text": [
      "                            OLS Regression Results                            \n",
      "==============================================================================\n",
      "Dep. Variable:                  Price   R-squared:                       0.848\n",
      "Model:                            OLS   Adj. R-squared:                  0.793\n",
      "Method:                 Least Squares   F-statistic:                     15.35\n",
      "Date:                Sun, 27 Feb 2022   Prob (F-statistic):           0.000179\n",
      "Time:                        21:46:52   Log-Likelihood:                -82.358\n",
      "No. Observations:                  16   AIC:                             174.7\n",
      "Df Residuals:                      11   BIC:                             178.6\n",
      "Df Model:                           4                                         \n",
      "Covariance Type:            nonrobust                                         \n",
      "==================================================================================\n",
      "                     coef    std err          t      P>|t|      [0.025      0.975]\n",
      "----------------------------------------------------------------------------------\n",
      "Intercept        230.9129     90.667      2.547      0.027      31.356     430.470\n",
      "Extra_Cheeze      71.6153     32.072      2.233      0.047       1.026     142.205\n",
      "Extra_Mushroom    56.8905     29.265      1.944      0.078      -7.521     121.302\n",
      "Size_By_Inch      29.5075      7.293      4.046      0.002      13.455      45.560\n",
      "Extra_Spicy      115.6179     28.451      4.064      0.002      52.997     178.239\n",
      "==============================================================================\n",
      "Omnibus:                        1.149   Durbin-Watson:                   1.359\n",
      "Prob(Omnibus):                  0.563   Jarque-Bera (JB):                0.795\n",
      "Skew:                          -0.153   Prob(JB):                        0.672\n",
      "Kurtosis:                       1.952   Cond. No.                         90.2\n",
      "==============================================================================\n",
      "\n",
      "Notes:\n",
      "[1] Standard Errors assume that the covariance matrix of the errors is correctly specified.\n"
     ]
    }
   ],
   "source": [
    "model1 = sm.ols(formula = 'Price ~ Extra_Cheeze + Extra_Mushroom+ Size_By_Inch +Extra_Spicy',data = df_train).fit()\n",
    "print(model1.summary())"
   ]
  },
  {
   "cell_type": "markdown",
   "id": "ef1d2ea7",
   "metadata": {},
   "source": [
    "### RMSE"
   ]
  },
  {
   "cell_type": "code",
   "execution_count": 72,
   "id": "1a140f9e",
   "metadata": {},
   "outputs": [],
   "source": [
    "x_test = df_test.loc[:, df_test.columns != 'Price']\n",
    "y_test = df_test.loc[:, df_test.columns == 'Price']"
   ]
  },
  {
   "cell_type": "code",
   "execution_count": 73,
   "id": "6098c7e9",
   "metadata": {},
   "outputs": [
    {
     "data": {
      "text/html": [
       "<div>\n",
       "<style scoped>\n",
       "    .dataframe tbody tr th:only-of-type {\n",
       "        vertical-align: middle;\n",
       "    }\n",
       "\n",
       "    .dataframe tbody tr th {\n",
       "        vertical-align: top;\n",
       "    }\n",
       "\n",
       "    .dataframe thead th {\n",
       "        text-align: right;\n",
       "    }\n",
       "</style>\n",
       "<table border=\"1\" class=\"dataframe\">\n",
       "  <thead>\n",
       "    <tr style=\"text-align: right;\">\n",
       "      <th></th>\n",
       "      <th>Extra_Cheeze</th>\n",
       "      <th>Extra_Mushroom</th>\n",
       "      <th>Size_By_Inch</th>\n",
       "      <th>Extra_Spicy</th>\n",
       "    </tr>\n",
       "  </thead>\n",
       "  <tbody>\n",
       "    <tr>\n",
       "      <th>16</th>\n",
       "      <td>0</td>\n",
       "      <td>1</td>\n",
       "      <td>15</td>\n",
       "      <td>1</td>\n",
       "    </tr>\n",
       "    <tr>\n",
       "      <th>17</th>\n",
       "      <td>0</td>\n",
       "      <td>0</td>\n",
       "      <td>9</td>\n",
       "      <td>0</td>\n",
       "    </tr>\n",
       "    <tr>\n",
       "      <th>18</th>\n",
       "      <td>1</td>\n",
       "      <td>1</td>\n",
       "      <td>12</td>\n",
       "      <td>1</td>\n",
       "    </tr>\n",
       "    <tr>\n",
       "      <th>19</th>\n",
       "      <td>1</td>\n",
       "      <td>0</td>\n",
       "      <td>9</td>\n",
       "      <td>0</td>\n",
       "    </tr>\n",
       "  </tbody>\n",
       "</table>\n",
       "</div>"
      ],
      "text/plain": [
       "    Extra_Cheeze  Extra_Mushroom  Size_By_Inch  Extra_Spicy\n",
       "16             0               1            15            1\n",
       "17             0               0             9            0\n",
       "18             1               1            12            1\n",
       "19             1               0             9            0"
      ]
     },
     "execution_count": 73,
     "metadata": {},
     "output_type": "execute_result"
    }
   ],
   "source": [
    "x_test"
   ]
  },
  {
   "cell_type": "code",
   "execution_count": 74,
   "id": "2921f81a",
   "metadata": {},
   "outputs": [
    {
     "data": {
      "text/html": [
       "<div>\n",
       "<style scoped>\n",
       "    .dataframe tbody tr th:only-of-type {\n",
       "        vertical-align: middle;\n",
       "    }\n",
       "\n",
       "    .dataframe tbody tr th {\n",
       "        vertical-align: top;\n",
       "    }\n",
       "\n",
       "    .dataframe thead th {\n",
       "        text-align: right;\n",
       "    }\n",
       "</style>\n",
       "<table border=\"1\" class=\"dataframe\">\n",
       "  <thead>\n",
       "    <tr style=\"text-align: right;\">\n",
       "      <th></th>\n",
       "      <th>Price</th>\n",
       "    </tr>\n",
       "  </thead>\n",
       "  <tbody>\n",
       "    <tr>\n",
       "      <th>16</th>\n",
       "      <td>1000</td>\n",
       "    </tr>\n",
       "    <tr>\n",
       "      <th>17</th>\n",
       "      <td>650</td>\n",
       "    </tr>\n",
       "    <tr>\n",
       "      <th>18</th>\n",
       "      <td>950</td>\n",
       "    </tr>\n",
       "    <tr>\n",
       "      <th>19</th>\n",
       "      <td>700</td>\n",
       "    </tr>\n",
       "  </tbody>\n",
       "</table>\n",
       "</div>"
      ],
      "text/plain": [
       "    Price\n",
       "16   1000\n",
       "17    650\n",
       "18    950\n",
       "19    700"
      ]
     },
     "execution_count": 74,
     "metadata": {},
     "output_type": "execute_result"
    }
   ],
   "source": [
    "y_test"
   ]
  },
  {
   "cell_type": "code",
   "execution_count": 75,
   "id": "cf0d7b4b",
   "metadata": {},
   "outputs": [
    {
     "data": {
      "text/plain": [
       "16    846.033708\n",
       "17    496.480295\n",
       "18    829.126508\n",
       "19    568.095575\n",
       "dtype: float64"
      ]
     },
     "execution_count": 75,
     "metadata": {},
     "output_type": "execute_result"
    }
   ],
   "source": [
    "y_Pred = model1.predict(x_test)\n",
    "y_Pred"
   ]
  },
  {
   "cell_type": "code",
   "execution_count": 76,
   "id": "1c3945b1",
   "metadata": {},
   "outputs": [],
   "source": [
    "y_test_series = y_test.iloc[:,0]"
   ]
  },
  {
   "cell_type": "code",
   "execution_count": 77,
   "id": "eb891102",
   "metadata": {},
   "outputs": [],
   "source": [
    "residual1 = y_test_series - y_Pred\n"
   ]
  },
  {
   "cell_type": "code",
   "execution_count": 78,
   "id": "a7876e37",
   "metadata": {},
   "outputs": [],
   "source": [
    "se1 = residual1.pow(2)"
   ]
  },
  {
   "cell_type": "code",
   "execution_count": 79,
   "id": "6d909afc",
   "metadata": {},
   "outputs": [],
   "source": [
    "sse1 = se1.sum()"
   ]
  },
  {
   "cell_type": "code",
   "execution_count": 80,
   "id": "2e54e3e5",
   "metadata": {},
   "outputs": [
    {
     "data": {
      "text/plain": [
       "19820.774374712113"
      ]
     },
     "execution_count": 80,
     "metadata": {},
     "output_type": "execute_result"
    }
   ],
   "source": [
    "mse1 = sse1/len(se1)\n",
    "mse1"
   ]
  },
  {
   "cell_type": "code",
   "execution_count": 81,
   "id": "8fd35bd4",
   "metadata": {},
   "outputs": [
    {
     "name": "stdout",
     "output_type": "stream",
     "text": [
      "RMSE 140.7862719682289\n"
     ]
    }
   ],
   "source": [
    "print(\"RMSE\", np.sqrt(mse1))"
   ]
  },
  {
   "cell_type": "code",
   "execution_count": 82,
   "id": "831d23e6",
   "metadata": {},
   "outputs": [],
   "source": [
    "from matplotlib import pyplot\n"
   ]
  },
  {
   "cell_type": "code",
   "execution_count": 83,
   "id": "d9b36322",
   "metadata": {},
   "outputs": [
    {
     "data": {
      "image/png": "[encoded data removed]",
      "text/plain": [
       "<Figure size 432x288 with 1 Axes>"
      ]
     },
     "metadata": {
      "needs_background": "light"
     },
     "output_type": "display_data"
    }
   ],
   "source": [
    "pyplot.scatter(y_test ,y_Pred,color='red')\n",
    "pyplot.plot(y_Pred, y_test,color='blue')\n",
    "plt.xlabel('y_pred')\n",
    "plt.ylabel('y_actual')\n",
    "pyplot.show()\n"
   ]
  },
  {
   "cell_type": "markdown",
   "id": "d5cf28c1",
   "metadata": {},
   "source": [
    "### MODEL 2"
   ]
  },
  {
   "cell_type": "code",
   "execution_count": 84,
   "id": "3c0b3b7c",
   "metadata": {},
   "outputs": [],
   "source": [
    "# Lets remove Extra Cheeze , since p > 0.05"
   ]
  },
  {
   "cell_type": "code",
   "execution_count": 85,
   "id": "d1351b6d",
   "metadata": {},
   "outputs": [
    {
     "name": "stdout",
     "output_type": "stream",
     "text": [
      "                            OLS Regression Results                            \n",
      "==============================================================================\n",
      "Dep. Variable:                  Price   R-squared:                       0.779\n",
      "Model:                            OLS   Adj. R-squared:                  0.724\n",
      "Method:                 Least Squares   F-statistic:                     14.11\n",
      "Date:                Sun, 27 Feb 2022   Prob (F-statistic):           0.000306\n",
      "Time:                        21:46:55   Log-Likelihood:                -85.349\n",
      "No. Observations:                  16   AIC:                             178.7\n",
      "Df Residuals:                      12   BIC:                             181.8\n",
      "Df Model:                           3                                         \n",
      "Covariance Type:            nonrobust                                         \n",
      "==================================================================================\n",
      "                     coef    std err          t      P>|t|      [0.025      0.975]\n",
      "----------------------------------------------------------------------------------\n",
      "Intercept        376.2496     72.854      5.164      0.000     217.514     534.985\n",
      "Extra_Mushroom    62.9348     33.633      1.871      0.086     -10.345     136.214\n",
      "Size_By_Inch      20.3614      6.965      2.923      0.013       5.186      35.537\n",
      "Extra_Spicy      122.2861     32.657      3.745      0.003      51.133     193.440\n",
      "==============================================================================\n",
      "Omnibus:                        1.913   Durbin-Watson:                   0.824\n",
      "Prob(Omnibus):                  0.384   Jarque-Bera (JB):                1.210\n",
      "Skew:                           0.398   Prob(JB):                        0.546\n",
      "Kurtosis:                       1.914   Cond. No.                         61.0\n",
      "==============================================================================\n",
      "\n",
      "Notes:\n",
      "[1] Standard Errors assume that the covariance matrix of the errors is correctly specified.\n"
     ]
    }
   ],
   "source": [
    "model2 = sm.ols(formula = 'Price ~ Extra_Mushroom+ Size_By_Inch +Extra_Spicy',data = df_train).fit()\n",
    "print(model2.summary())"
   ]
  },
  {
   "cell_type": "markdown",
   "id": "58ccd734",
   "metadata": {},
   "source": [
    "### RMSE"
   ]
  },
  {
   "cell_type": "code",
   "execution_count": 86,
   "id": "062a109c",
   "metadata": {},
   "outputs": [
    {
     "data": {
      "text/plain": [
       "16    866.892184\n",
       "17    559.502626\n",
       "18    805.807847\n",
       "19    559.502626\n",
       "dtype: float64"
      ]
     },
     "execution_count": 86,
     "metadata": {},
     "output_type": "execute_result"
    }
   ],
   "source": [
    "y_Pred2 = model2.predict(x_test)\n",
    "y_Pred2"
   ]
  },
  {
   "cell_type": "code",
   "execution_count": 87,
   "id": "eaecb278",
   "metadata": {},
   "outputs": [
    {
     "data": {
      "text/html": [
       "<div>\n",
       "<style scoped>\n",
       "    .dataframe tbody tr th:only-of-type {\n",
       "        vertical-align: middle;\n",
       "    }\n",
       "\n",
       "    .dataframe tbody tr th {\n",
       "        vertical-align: top;\n",
       "    }\n",
       "\n",
       "    .dataframe thead th {\n",
       "        text-align: right;\n",
       "    }\n",
       "</style>\n",
       "<table border=\"1\" class=\"dataframe\">\n",
       "  <thead>\n",
       "    <tr style=\"text-align: right;\">\n",
       "      <th></th>\n",
       "      <th>Price</th>\n",
       "    </tr>\n",
       "  </thead>\n",
       "  <tbody>\n",
       "    <tr>\n",
       "      <th>16</th>\n",
       "      <td>1000</td>\n",
       "    </tr>\n",
       "    <tr>\n",
       "      <th>17</th>\n",
       "      <td>650</td>\n",
       "    </tr>\n",
       "    <tr>\n",
       "      <th>18</th>\n",
       "      <td>950</td>\n",
       "    </tr>\n",
       "    <tr>\n",
       "      <th>19</th>\n",
       "      <td>700</td>\n",
       "    </tr>\n",
       "  </tbody>\n",
       "</table>\n",
       "</div>"
      ],
      "text/plain": [
       "    Price\n",
       "16   1000\n",
       "17    650\n",
       "18    950\n",
       "19    700"
      ]
     },
     "execution_count": 87,
     "metadata": {},
     "output_type": "execute_result"
    }
   ],
   "source": [
    "y_test"
   ]
  },
  {
   "cell_type": "code",
   "execution_count": 88,
   "id": "3178dc47",
   "metadata": {},
   "outputs": [],
   "source": [
    "y_test_series = y_test.iloc[:,0]"
   ]
  },
  {
   "cell_type": "code",
   "execution_count": 89,
   "id": "60723ecf",
   "metadata": {},
   "outputs": [],
   "source": [
    "residual2 = y_test_series - y_Pred2\n"
   ]
  },
  {
   "cell_type": "code",
   "execution_count": 90,
   "id": "6afa82c1",
   "metadata": {},
   "outputs": [],
   "source": [
    "se2 = residual2.pow(2)"
   ]
  },
  {
   "cell_type": "code",
   "execution_count": 91,
   "id": "e7a663ad",
   "metadata": {},
   "outputs": [],
   "source": [
    "sse2 = se2.sum()"
   ]
  },
  {
   "cell_type": "code",
   "execution_count": 92,
   "id": "d06a1cd2",
   "metadata": {},
   "outputs": [
    {
     "data": {
      "text/plain": [
       "16609.58863853023"
      ]
     },
     "execution_count": 92,
     "metadata": {},
     "output_type": "execute_result"
    }
   ],
   "source": [
    "mse2 = sse2/len(se2)\n",
    "mse2"
   ]
  },
  {
   "cell_type": "code",
   "execution_count": 93,
   "id": "0537279f",
   "metadata": {},
   "outputs": [
    {
     "name": "stdout",
     "output_type": "stream",
     "text": [
      "RMSE 128.87819302942694\n"
     ]
    }
   ],
   "source": [
    "print(\"RMSE\", np.sqrt(mse2))"
   ]
  },
  {
   "cell_type": "markdown",
   "id": "c7dd8263",
   "metadata": {},
   "source": [
    "### MODEL 3"
   ]
  },
  {
   "cell_type": "code",
   "execution_count": 94,
   "id": "e9ac80dd",
   "metadata": {
    "scrolled": true
   },
   "outputs": [
    {
     "name": "stdout",
     "output_type": "stream",
     "text": [
      "                            OLS Regression Results                            \n",
      "==============================================================================\n",
      "Dep. Variable:                  Price   R-squared:                       0.796\n",
      "Model:                            OLS   Adj. R-squared:                  0.745\n",
      "Method:                 Least Squares   F-statistic:                     15.59\n",
      "Date:                Sun, 27 Feb 2022   Prob (F-statistic):           0.000193\n",
      "Time:                        21:46:56   Log-Likelihood:                -84.720\n",
      "No. Observations:                  16   AIC:                             177.4\n",
      "Df Residuals:                      12   BIC:                             180.5\n",
      "Df Model:                           3                                         \n",
      "Covariance Type:            nonrobust                                         \n",
      "================================================================================\n",
      "                   coef    std err          t      P>|t|      [0.025      0.975]\n",
      "--------------------------------------------------------------------------------\n",
      "Intercept      198.5752     98.912      2.008      0.068     -16.935     414.085\n",
      "Extra_Cheeze    77.3820     35.440      2.183      0.050       0.165     154.599\n",
      "Size_By_Inch    35.4853      7.339      4.835      0.000      19.494      51.477\n",
      "Extra_Spicy     94.7462     29.240      3.240      0.007      31.038     158.454\n",
      "==============================================================================\n",
      "Omnibus:                        0.686   Durbin-Watson:                   1.789\n",
      "Prob(Omnibus):                  0.710   Jarque-Bera (JB):                0.215\n",
      "Skew:                           0.282   Prob(JB):                        0.898\n",
      "Kurtosis:                       2.929   Cond. No.                         88.4\n",
      "==============================================================================\n",
      "\n",
      "Notes:\n",
      "[1] Standard Errors assume that the covariance matrix of the errors is correctly specified.\n"
     ]
    }
   ],
   "source": [
    "model3 = sm.ols(formula = 'Price ~ Extra_Cheeze + Size_By_Inch +Extra_Spicy',data = df_train).fit()\n",
    "print(model3.summary())"
   ]
  },
  {
   "cell_type": "markdown",
   "id": "3c6ad013",
   "metadata": {},
   "source": [
    "### RMSE"
   ]
  },
  {
   "cell_type": "code",
   "execution_count": 95,
   "id": "6492d2c8",
   "metadata": {},
   "outputs": [
    {
     "data": {
      "text/plain": [
       "16    825.601069\n",
       "17    517.943010\n",
       "18    796.527159\n",
       "19    595.325022\n",
       "dtype: float64"
      ]
     },
     "execution_count": 95,
     "metadata": {},
     "output_type": "execute_result"
    }
   ],
   "source": [
    "y_Pred3 = model3.predict(x_test)\n",
    "y_Pred3"
   ]
  },
  {
   "cell_type": "code",
   "execution_count": 96,
   "id": "3533628c",
   "metadata": {},
   "outputs": [
    {
     "data": {
      "text/html": [
       "<div>\n",
       "<style scoped>\n",
       "    .dataframe tbody tr th:only-of-type {\n",
       "        vertical-align: middle;\n",
       "    }\n",
       "\n",
       "    .dataframe tbody tr th {\n",
       "        vertical-align: top;\n",
       "    }\n",
       "\n",
       "    .dataframe thead th {\n",
       "        text-align: right;\n",
       "    }\n",
       "</style>\n",
       "<table border=\"1\" class=\"dataframe\">\n",
       "  <thead>\n",
       "    <tr style=\"text-align: right;\">\n",
       "      <th></th>\n",
       "      <th>Price</th>\n",
       "    </tr>\n",
       "  </thead>\n",
       "  <tbody>\n",
       "    <tr>\n",
       "      <th>16</th>\n",
       "      <td>1000</td>\n",
       "    </tr>\n",
       "    <tr>\n",
       "      <th>17</th>\n",
       "      <td>650</td>\n",
       "    </tr>\n",
       "    <tr>\n",
       "      <th>18</th>\n",
       "      <td>950</td>\n",
       "    </tr>\n",
       "    <tr>\n",
       "      <th>19</th>\n",
       "      <td>700</td>\n",
       "    </tr>\n",
       "  </tbody>\n",
       "</table>\n",
       "</div>"
      ],
      "text/plain": [
       "    Price\n",
       "16   1000\n",
       "17    650\n",
       "18    950\n",
       "19    700"
      ]
     },
     "execution_count": 96,
     "metadata": {},
     "output_type": "execute_result"
    }
   ],
   "source": [
    "y_test"
   ]
  },
  {
   "cell_type": "code",
   "execution_count": 97,
   "id": "dde390d3",
   "metadata": {},
   "outputs": [],
   "source": [
    "y_test_series = y_test.iloc[:,0]"
   ]
  },
  {
   "cell_type": "code",
   "execution_count": 98,
   "id": "b9d5b1ce",
   "metadata": {},
   "outputs": [
    {
     "data": {
      "text/plain": [
       "3092270.899140359"
      ]
     },
     "execution_count": 98,
     "metadata": {},
     "output_type": "execute_result"
    }
   ],
   "source": [
    "residual3 = y_test_series - y_Pred3\n",
    "se3 = residual3.pow(3)\n",
    "sse3 = se3.sum()\n",
    "mse3 = sse3/len(se3)\n",
    "mse3"
   ]
  },
  {
   "cell_type": "code",
   "execution_count": 99,
   "id": "f4918bc6",
   "metadata": {},
   "outputs": [
    {
     "name": "stdout",
     "output_type": "stream",
     "text": [
      "RMSE 1758.4853991831603\n"
     ]
    }
   ],
   "source": [
    "print(\"RMSE\", np.sqrt(mse3))"
   ]
  },
  {
   "cell_type": "code",
   "execution_count": 100,
   "id": "da554dd0",
   "metadata": {},
   "outputs": [],
   "source": [
    "# SO MODEL1 is winner model , Since it has good R-Squred value and low RMSE"
   ]
  },
  {
   "cell_type": "code",
   "execution_count": null,
   "id": "21757008",
   "metadata": {},
   "outputs": [],
   "source": []
  },
  {
   "cell_type": "markdown",
   "id": "b0e62918",
   "metadata": {},
   "source": [
    "### ASSUMPTIONS"
   ]
  },
  {
   "cell_type": "code",
   "execution_count": 108,
   "id": "fe3db944",
   "metadata": {},
   "outputs": [],
   "source": [
    "predict = model1.predict()\n",
    "resi =  df_train.Price -  predict\n"
   ]
  },
  {
   "cell_type": "code",
   "execution_count": 109,
   "id": "ee055774",
   "metadata": {},
   "outputs": [],
   "source": [
    "df_train['predict'] = predict"
   ]
  },
  {
   "cell_type": "code",
   "execution_count": 113,
   "id": "8728ab52",
   "metadata": {},
   "outputs": [],
   "source": [
    "df_train['residuals'] = resi"
   ]
  },
  {
   "cell_type": "code",
   "execution_count": 210,
   "id": "20b4433d",
   "metadata": {},
   "outputs": [],
   "source": [
    "#resi = y_test_series - predict"
   ]
  },
  {
   "cell_type": "code",
   "execution_count": 111,
   "id": "f0fb1d50",
   "metadata": {},
   "outputs": [],
   "source": [
    "obs = np.arange(20)\n",
    "obsno = pd.DataFrame(obs)\n",
    "df['obsno'] = obsno"
   ]
  },
  {
   "cell_type": "code",
   "execution_count": 114,
   "id": "5d4b63ed",
   "metadata": {},
   "outputs": [
    {
     "name": "stdout",
     "output_type": "stream",
     "text": [
      "<class 'pandas.core.frame.DataFrame'>\n",
      "RangeIndex: 20 entries, 0 to 19\n",
      "Data columns (total 6 columns):\n",
      " #   Column          Non-Null Count  Dtype\n",
      "---  ------          --------------  -----\n",
      " 0   Extra_Cheeze    20 non-null     int64\n",
      " 1   Extra_Mushroom  20 non-null     int64\n",
      " 2   Size_By_Inch    20 non-null     int64\n",
      " 3   Extra_Spicy     20 non-null     int64\n",
      " 4   Price           20 non-null     int64\n",
      " 5   obsno           20 non-null     int32\n",
      "dtypes: int32(1), int64(5)\n",
      "memory usage: 1008.0 bytes\n"
     ]
    }
   ],
   "source": [
    "df.info()"
   ]
  },
  {
   "cell_type": "markdown",
   "id": "e45b95d5",
   "metadata": {},
   "source": [
    "### 1. Normality"
   ]
  },
  {
   "cell_type": "code",
   "execution_count": 115,
   "id": "b50d41d0",
   "metadata": {
    "scrolled": true
   },
   "outputs": [
    {
     "data": {
      "image/png": "[encoded data removed]",
      "text/plain": [
       "<Figure size 576x576 with 1 Axes>"
      ]
     },
     "metadata": {
      "needs_background": "light"
     },
     "output_type": "display_data"
    }
   ],
   "source": [
    "plt.figure(figsize=(8,8))\n",
    "sns.distplot(df_train.residuals, color='green')\n",
    "plt.title('Histogram of residuals',color = 'red')\n",
    "plt.ylabel('Prob',color = 'blue')\n",
    "plt.xlabel('Residuals',color = 'blue')\n",
    "plt.show()"
   ]
  },
  {
   "cell_type": "markdown",
   "id": "b9c5714d",
   "metadata": {},
   "source": [
    "### 2. Linearity"
   ]
  },
  {
   "cell_type": "code",
   "execution_count": 219,
   "id": "c4d1f655",
   "metadata": {
    "scrolled": true
   },
   "outputs": [
    {
     "data": {
      "text/plain": [
       "Index(['Extra_Cheeze', 'Extra_Mushroom', 'Size_By_Inch', 'Extra_Spicy',\n",
       "       'Price', 'predict', 'resi', 'obsno'],\n",
       "      dtype='object')"
      ]
     },
     "execution_count": 219,
     "metadata": {},
     "output_type": "execute_result"
    }
   ],
   "source": [
    "df.columns"
   ]
  },
  {
   "cell_type": "code",
   "execution_count": 220,
   "id": "ae848a50",
   "metadata": {},
   "outputs": [],
   "source": [
    "x = ['Extra_Cheeze', 'Extra_Mushroom', 'Size_By_Inch', 'Extra_Spicy',\n",
    "       'Price', 'predict', 'resi', 'obsno']"
   ]
  },
  {
   "cell_type": "code",
   "execution_count": 221,
   "id": "88d53248",
   "metadata": {},
   "outputs": [],
   "source": [
    "df_x = df[x]"
   ]
  },
  {
   "cell_type": "code",
   "execution_count": 222,
   "id": "c90568d2",
   "metadata": {},
   "outputs": [
    {
     "data": {
      "text/plain": [
       "<seaborn.axisgrid.PairGrid at 0x1c3fee73070>"
      ]
     },
     "execution_count": 222,
     "metadata": {},
     "output_type": "execute_result"
    },
    {
     "data": {
      "image/png": "[encoded data removed]",
      "text/plain": [
       "<Figure size 1440x1440 with 72 Axes>"
      ]
     },
     "metadata": {
      "needs_background": "light"
     },
     "output_type": "display_data"
    }
   ],
   "source": [
    "sns.pairplot(df_x,palette = sns.color_palette('bright'),markers = ['>'], plot_kws={'facecolors':'#1198db'})"
   ]
  },
  {
   "cell_type": "markdown",
   "id": "82d574b0",
   "metadata": {},
   "source": [
    "### 3. INDEPENDENCE OF OBSERVATIONS"
   ]
  },
  {
   "cell_type": "code",
   "execution_count": 116,
   "id": "bcb3fa85",
   "metadata": {},
   "outputs": [
    {
     "data": {
      "text/plain": [
       "Text(0.5, 1.0, 'Scatterplot of obsno vs residuals')"
      ]
     },
     "execution_count": 116,
     "metadata": {},
     "output_type": "execute_result"
    },
    {
     "data": {
      "image/png": "[encoded data removed]",
      "text/plain": [
       "<Figure size 720x720 with 1 Axes>"
      ]
     },
     "metadata": {
      "needs_background": "light"
     },
     "output_type": "display_data"
    }
   ],
   "source": [
    "plt.figure(figsize=(10,10))\n",
    "sns.scatterplot(x=df.obsno, y=df_train.residuals,palette='spring_r', color='magenta',markers='+')\n",
    "plt.xlabel('observed numbers', color = 'r')\n",
    "plt.ylabel('residuals', color = 'r')\n",
    "plt.title('Scatterplot of obsno vs residuals',color = 'r')"
   ]
  },
  {
   "cell_type": "markdown",
   "id": "26cb973d",
   "metadata": {},
   "source": [
    "### 4. HETEROSCEDASTICITY"
   ]
  },
  {
   "cell_type": "code",
   "execution_count": 118,
   "id": "9e5e19e9",
   "metadata": {},
   "outputs": [
    {
     "data": {
      "image/png": "[encoded data removed]",
      "text/plain": [
       "<Figure size 864x720 with 1 Axes>"
      ]
     },
     "metadata": {
      "needs_background": "light"
     },
     "output_type": "display_data"
    }
   ],
   "source": [
    "plt.figure(figsize=(12,10))\n",
    "sns.scatterplot(x=df_train.predict, y=df_train.residuals,palette='spring_r', color='red')\n",
    "plt.title('Scatterplot of predict vs residuals')\n",
    "plt.show()"
   ]
  },
  {
   "cell_type": "markdown",
   "id": "64ade35d",
   "metadata": {},
   "source": [
    "### 5.MULTI - COLINIARITY"
   ]
  },
  {
   "cell_type": "code",
   "execution_count": 225,
   "id": "2f4d6dbb",
   "metadata": {},
   "outputs": [
    {
     "data": {
      "text/plain": [
       "Text(0.5, 1.0, 'correlation matrix')"
      ]
     },
     "execution_count": 225,
     "metadata": {},
     "output_type": "execute_result"
    },
    {
     "data": {
      "image/png": "[encoded data removed]",
      "text/plain": [
       "<Figure size 432x288 with 2 Axes>"
      ]
     },
     "metadata": {
      "needs_background": "light"
     },
     "output_type": "display_data"
    }
   ],
   "source": [
    "sns.heatmap(hm.corr(), cmap = 'RdYlBu', annot = True)\n",
    "plt.title('correlation matrix')"
   ]
  },
  {
   "cell_type": "markdown",
   "id": "4bd997bb",
   "metadata": {},
   "source": [
    "### MODEL BUILDING USING SGD"
   ]
  },
  {
   "cell_type": "code",
   "execution_count": 226,
   "id": "e534ef94",
   "metadata": {},
   "outputs": [],
   "source": [
    "from sklearn.preprocessing import StandardScaler\n",
    "from sklearn.linear_model import SGDRegressor\n",
    "from sklearn.metrics import mean_squared_error"
   ]
  },
  {
   "cell_type": "code",
   "execution_count": 229,
   "id": "c30b948e",
   "metadata": {},
   "outputs": [],
   "source": [
    "from sklearn.model_selection import train_test_split"
   ]
  },
  {
   "cell_type": "code",
   "execution_count": 232,
   "id": "3db79e92",
   "metadata": {},
   "outputs": [],
   "source": [
    "df = pd.read_csv(r'C:\\Users\\SAIFULLA SHARIEF\\Desktop\\MY PROJECTS\\P4 - PIZZA_PRICE- LINEAR REGRESSION\\Pizza-Price.csv')"
   ]
  },
  {
   "cell_type": "code",
   "execution_count": 233,
   "id": "2a29a871",
   "metadata": {
    "scrolled": true
   },
   "outputs": [
    {
     "data": {
      "text/html": [
       "<div>\n",
       "<style scoped>\n",
       "    .dataframe tbody tr th:only-of-type {\n",
       "        vertical-align: middle;\n",
       "    }\n",
       "\n",
       "    .dataframe tbody tr th {\n",
       "        vertical-align: top;\n",
       "    }\n",
       "\n",
       "    .dataframe thead th {\n",
       "        text-align: right;\n",
       "    }\n",
       "</style>\n",
       "<table border=\"1\" class=\"dataframe\">\n",
       "  <thead>\n",
       "    <tr style=\"text-align: right;\">\n",
       "      <th></th>\n",
       "      <th>Restaurant</th>\n",
       "      <th>Extra Cheeze</th>\n",
       "      <th>Extra Mushroom</th>\n",
       "      <th>Size by Inch</th>\n",
       "      <th>Extra Spicy</th>\n",
       "      <th>Price</th>\n",
       "    </tr>\n",
       "  </thead>\n",
       "  <tbody>\n",
       "    <tr>\n",
       "      <th>0</th>\n",
       "      <td>A</td>\n",
       "      <td>yes</td>\n",
       "      <td>yes</td>\n",
       "      <td>12</td>\n",
       "      <td>no</td>\n",
       "      <td>650</td>\n",
       "    </tr>\n",
       "    <tr>\n",
       "      <th>1</th>\n",
       "      <td>B</td>\n",
       "      <td>no</td>\n",
       "      <td>yes</td>\n",
       "      <td>15</td>\n",
       "      <td>yes</td>\n",
       "      <td>800</td>\n",
       "    </tr>\n",
       "    <tr>\n",
       "      <th>2</th>\n",
       "      <td>C</td>\n",
       "      <td>no</td>\n",
       "      <td>no</td>\n",
       "      <td>9</td>\n",
       "      <td>no</td>\n",
       "      <td>500</td>\n",
       "    </tr>\n",
       "    <tr>\n",
       "      <th>3</th>\n",
       "      <td>D</td>\n",
       "      <td>yes</td>\n",
       "      <td>no</td>\n",
       "      <td>12</td>\n",
       "      <td>yes</td>\n",
       "      <td>700</td>\n",
       "    </tr>\n",
       "    <tr>\n",
       "      <th>4</th>\n",
       "      <td>E</td>\n",
       "      <td>yes</td>\n",
       "      <td>no</td>\n",
       "      <td>12</td>\n",
       "      <td>yes</td>\n",
       "      <td>750</td>\n",
       "    </tr>\n",
       "  </tbody>\n",
       "</table>\n",
       "</div>"
      ],
      "text/plain": [
       "  Restaurant Extra Cheeze Extra Mushroom   Size by Inch Extra Spicy  Price\n",
       "0          A          yes            yes             12          no    650\n",
       "1          B           no            yes             15         yes    800\n",
       "2          C           no             no              9          no    500\n",
       "3          D          yes             no             12         yes    700\n",
       "4          E          yes             no             12         yes    750"
      ]
     },
     "execution_count": 233,
     "metadata": {},
     "output_type": "execute_result"
    }
   ],
   "source": [
    "df.head()"
   ]
  },
  {
   "cell_type": "code",
   "execution_count": 234,
   "id": "8c4985dd",
   "metadata": {},
   "outputs": [],
   "source": [
    "df.drop(['Restaurant'],axis = 1, inplace =True)"
   ]
  },
  {
   "cell_type": "code",
   "execution_count": 242,
   "id": "eb4eef59",
   "metadata": {},
   "outputs": [
    {
     "name": "stdout",
     "output_type": "stream",
     "text": [
      "<class 'pandas.core.frame.DataFrame'>\n",
      "RangeIndex: 20 entries, 0 to 19\n",
      "Data columns (total 5 columns):\n",
      " #   Column          Non-Null Count  Dtype \n",
      "---  ------          --------------  ----- \n",
      " 0   Extra Cheeze    20 non-null     object\n",
      " 1   Extra Mushroom  20 non-null     object\n",
      " 2    Size by Inch   20 non-null     int64 \n",
      " 3   Extra Spicy     20 non-null     object\n",
      " 4   Price           20 non-null     int64 \n",
      "dtypes: int64(2), object(3)\n",
      "memory usage: 928.0+ bytes\n"
     ]
    }
   ],
   "source": [
    "df.info()"
   ]
  },
  {
   "cell_type": "code",
   "execution_count": 250,
   "id": "67a7ddce",
   "metadata": {},
   "outputs": [],
   "source": [
    "# LABEL ENCODING"
   ]
  },
  {
   "cell_type": "code",
   "execution_count": 251,
   "id": "63ea29ac",
   "metadata": {},
   "outputs": [],
   "source": [
    "from sklearn.preprocessing import LabelEncoder"
   ]
  },
  {
   "cell_type": "code",
   "execution_count": 252,
   "id": "bbd08d31",
   "metadata": {},
   "outputs": [],
   "source": [
    "LE = LabelEncoder()"
   ]
  },
  {
   "cell_type": "code",
   "execution_count": 257,
   "id": "c46eb3de",
   "metadata": {},
   "outputs": [],
   "source": [
    "var_mod = df.select_dtypes(include = 'object').columns\n",
    "for i in var_mod:\n",
    "    df[i] = LE.fit_transform(df[i])\n"
   ]
  },
  {
   "cell_type": "code",
   "execution_count": 259,
   "id": "2808707e",
   "metadata": {},
   "outputs": [
    {
     "data": {
      "text/html": [
       "<div>\n",
       "<style scoped>\n",
       "    .dataframe tbody tr th:only-of-type {\n",
       "        vertical-align: middle;\n",
       "    }\n",
       "\n",
       "    .dataframe tbody tr th {\n",
       "        vertical-align: top;\n",
       "    }\n",
       "\n",
       "    .dataframe thead th {\n",
       "        text-align: right;\n",
       "    }\n",
       "</style>\n",
       "<table border=\"1\" class=\"dataframe\">\n",
       "  <thead>\n",
       "    <tr style=\"text-align: right;\">\n",
       "      <th></th>\n",
       "      <th>Extra Cheeze</th>\n",
       "      <th>Extra Mushroom</th>\n",
       "      <th>Size by Inch</th>\n",
       "      <th>Extra Spicy</th>\n",
       "      <th>Price</th>\n",
       "    </tr>\n",
       "  </thead>\n",
       "  <tbody>\n",
       "    <tr>\n",
       "      <th>0</th>\n",
       "      <td>1</td>\n",
       "      <td>1</td>\n",
       "      <td>12</td>\n",
       "      <td>0</td>\n",
       "      <td>650</td>\n",
       "    </tr>\n",
       "    <tr>\n",
       "      <th>1</th>\n",
       "      <td>0</td>\n",
       "      <td>1</td>\n",
       "      <td>15</td>\n",
       "      <td>1</td>\n",
       "      <td>800</td>\n",
       "    </tr>\n",
       "    <tr>\n",
       "      <th>2</th>\n",
       "      <td>0</td>\n",
       "      <td>0</td>\n",
       "      <td>9</td>\n",
       "      <td>0</td>\n",
       "      <td>500</td>\n",
       "    </tr>\n",
       "    <tr>\n",
       "      <th>3</th>\n",
       "      <td>1</td>\n",
       "      <td>0</td>\n",
       "      <td>12</td>\n",
       "      <td>1</td>\n",
       "      <td>700</td>\n",
       "    </tr>\n",
       "    <tr>\n",
       "      <th>4</th>\n",
       "      <td>1</td>\n",
       "      <td>0</td>\n",
       "      <td>12</td>\n",
       "      <td>1</td>\n",
       "      <td>750</td>\n",
       "    </tr>\n",
       "  </tbody>\n",
       "</table>\n",
       "</div>"
      ],
      "text/plain": [
       "   Extra Cheeze  Extra Mushroom   Size by Inch  Extra Spicy  Price\n",
       "0             1               1             12            0    650\n",
       "1             0               1             15            1    800\n",
       "2             0               0              9            0    500\n",
       "3             1               0             12            1    700\n",
       "4             1               0             12            1    750"
      ]
     },
     "execution_count": 259,
     "metadata": {},
     "output_type": "execute_result"
    }
   ],
   "source": [
    "df.head()"
   ]
  },
  {
   "cell_type": "code",
   "execution_count": 260,
   "id": "971a0274",
   "metadata": {},
   "outputs": [],
   "source": [
    "x = df.iloc[:, 0:4]\n",
    "y= df.iloc[:,4:]"
   ]
  },
  {
   "cell_type": "code",
   "execution_count": 261,
   "id": "a5448b27",
   "metadata": {},
   "outputs": [
    {
     "data": {
      "text/plain": [
       "(20, 4)"
      ]
     },
     "execution_count": 261,
     "metadata": {},
     "output_type": "execute_result"
    }
   ],
   "source": [
    "x.shape\n"
   ]
  },
  {
   "cell_type": "code",
   "execution_count": 262,
   "id": "b35c8ce5",
   "metadata": {},
   "outputs": [
    {
     "data": {
      "text/plain": [
       "(20, 1)"
      ]
     },
     "execution_count": 262,
     "metadata": {},
     "output_type": "execute_result"
    }
   ],
   "source": [
    "y.shape"
   ]
  },
  {
   "cell_type": "code",
   "execution_count": 263,
   "id": "33d332cd",
   "metadata": {},
   "outputs": [],
   "source": [
    "x_train, x_test, y_train, y_test = train_test_split(x, y, test_size = 0.2, random_state = 0)\n"
   ]
  },
  {
   "cell_type": "code",
   "execution_count": 264,
   "id": "2e8418d4",
   "metadata": {},
   "outputs": [],
   "source": [
    "sc_x = StandardScaler()"
   ]
  },
  {
   "cell_type": "code",
   "execution_count": 265,
   "id": "f3311001",
   "metadata": {},
   "outputs": [],
   "source": [
    "x_train = sc_x.fit_transform(x_train)\n",
    "x_test = sc_x.transform(x_test)"
   ]
  },
  {
   "cell_type": "code",
   "execution_count": 266,
   "id": "708dd4a3",
   "metadata": {},
   "outputs": [
    {
     "data": {
      "text/plain": [
       "(16, 4)"
      ]
     },
     "execution_count": 266,
     "metadata": {},
     "output_type": "execute_result"
    }
   ],
   "source": [
    "x_train.shape"
   ]
  },
  {
   "cell_type": "code",
   "execution_count": 267,
   "id": "70c42429",
   "metadata": {},
   "outputs": [
    {
     "data": {
      "text/plain": [
       "(4, 4)"
      ]
     },
     "execution_count": 267,
     "metadata": {},
     "output_type": "execute_result"
    }
   ],
   "source": [
    "x_test.shape"
   ]
  },
  {
   "cell_type": "code",
   "execution_count": 268,
   "id": "620db555",
   "metadata": {},
   "outputs": [
    {
     "data": {
      "text/plain": [
       "(16, 1)"
      ]
     },
     "execution_count": 268,
     "metadata": {},
     "output_type": "execute_result"
    }
   ],
   "source": [
    "y_train.shape"
   ]
  },
  {
   "cell_type": "code",
   "execution_count": 269,
   "id": "ef7b2743",
   "metadata": {},
   "outputs": [
    {
     "data": {
      "text/plain": [
       "(4, 1)"
      ]
     },
     "execution_count": 269,
     "metadata": {},
     "output_type": "execute_result"
    }
   ],
   "source": [
    "y_test.shape"
   ]
  },
  {
   "cell_type": "markdown",
   "id": "bbe03876",
   "metadata": {},
   "source": [
    "### MODEL"
   ]
  },
  {
   "cell_type": "code",
   "execution_count": 270,
   "id": "e5767a24",
   "metadata": {},
   "outputs": [
    {
     "name": "stdout",
     "output_type": "stream",
     "text": [
      "R-Square:  0.7975922057312199\n"
     ]
    }
   ],
   "source": [
    "sgdr = SGDRegressor()\n",
    "sgdr.fit(x_train,y_train)\n",
    "\n",
    "score = sgdr.score(x_train, y_train)\n",
    "print('R-Square: ', score)"
   ]
  },
  {
   "cell_type": "markdown",
   "id": "97aed338",
   "metadata": {},
   "source": [
    "### RMSE"
   ]
  },
  {
   "cell_type": "code",
   "execution_count": 271,
   "id": "3c2e2c0d",
   "metadata": {},
   "outputs": [],
   "source": [
    "y_pred = sgdr.predict(x_test)"
   ]
  },
  {
   "cell_type": "code",
   "execution_count": 272,
   "id": "c6007764",
   "metadata": {},
   "outputs": [
    {
     "data": {
      "text/plain": [
       "array([839.8464555 , 906.5585871 , 561.41252925, 773.8199284 ])"
      ]
     },
     "execution_count": 272,
     "metadata": {},
     "output_type": "execute_result"
    }
   ],
   "source": [
    "y_pred"
   ]
  },
  {
   "cell_type": "code",
   "execution_count": 273,
   "id": "31e01683",
   "metadata": {},
   "outputs": [
    {
     "data": {
      "text/html": [
       "<div>\n",
       "<style scoped>\n",
       "    .dataframe tbody tr th:only-of-type {\n",
       "        vertical-align: middle;\n",
       "    }\n",
       "\n",
       "    .dataframe tbody tr th {\n",
       "        vertical-align: top;\n",
       "    }\n",
       "\n",
       "    .dataframe thead th {\n",
       "        text-align: right;\n",
       "    }\n",
       "</style>\n",
       "<table border=\"1\" class=\"dataframe\">\n",
       "  <thead>\n",
       "    <tr style=\"text-align: right;\">\n",
       "      <th></th>\n",
       "      <th>Price</th>\n",
       "    </tr>\n",
       "  </thead>\n",
       "  <tbody>\n",
       "    <tr>\n",
       "      <th>18</th>\n",
       "      <td>950</td>\n",
       "    </tr>\n",
       "    <tr>\n",
       "      <th>1</th>\n",
       "      <td>800</td>\n",
       "    </tr>\n",
       "    <tr>\n",
       "      <th>19</th>\n",
       "      <td>700</td>\n",
       "    </tr>\n",
       "    <tr>\n",
       "      <th>8</th>\n",
       "      <td>750</td>\n",
       "    </tr>\n",
       "  </tbody>\n",
       "</table>\n",
       "</div>"
      ],
      "text/plain": [
       "    Price\n",
       "18    950\n",
       "1     800\n",
       "19    700\n",
       "8     750"
      ]
     },
     "execution_count": 273,
     "metadata": {},
     "output_type": "execute_result"
    }
   ],
   "source": [
    "y_test"
   ]
  },
  {
   "cell_type": "code",
   "execution_count": 274,
   "id": "905092c8",
   "metadata": {},
   "outputs": [
    {
     "name": "stdout",
     "output_type": "stream",
     "text": [
      "MSE:  10815.602971616598\n",
      "RMSE:  103.99809119217812\n"
     ]
    }
   ],
   "source": [
    "mse = mean_squared_error(y_test, y_pred)\n",
    "print('MSE: ', mse)\n",
    "print('RMSE: ', np.sqrt(mse))"
   ]
  },
  {
   "cell_type": "markdown",
   "id": "74e805a1",
   "metadata": {},
   "source": [
    "### Intercept"
   ]
  },
  {
   "cell_type": "code",
   "execution_count": 275,
   "id": "7df75781",
   "metadata": {},
   "outputs": [
    {
     "data": {
      "text/plain": [
       "array([709.34391643])"
      ]
     },
     "execution_count": 275,
     "metadata": {},
     "output_type": "execute_result"
    }
   ],
   "source": [
    "sgdr.intercept_"
   ]
  },
  {
   "cell_type": "markdown",
   "id": "7d583493",
   "metadata": {},
   "source": [
    "### Co - efficients"
   ]
  },
  {
   "cell_type": "code",
   "execution_count": 277,
   "id": "911403dd",
   "metadata": {},
   "outputs": [
    {
     "data": {
      "text/plain": [
       "array([ 4.91378762, 34.41662994, 59.89345192, 65.84877755])"
      ]
     },
     "execution_count": 277,
     "metadata": {},
     "output_type": "execute_result"
    }
   ],
   "source": [
    "sgdr.coef_"
   ]
  }
 ],
 "metadata": {
  "kernelspec": {
   "display_name": "Python 3",
   "language": "python",
   "name": "python3"
  },
  "language_info": {
   "codemirror_mode": {
    "name": "ipython",
    "version": 3
   },
   "file_extension": ".py",
   "mimetype": "text/x-python",
   "name": "python",
   "nbconvert_exporter": "python",
   "pygments_lexer": "ipython3",
   "version": "3.8.8"
  }
 },
 "nbformat": 4,
 "nbformat_minor": 5
}
